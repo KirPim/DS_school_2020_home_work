{
  "nbformat": 4,
  "nbformat_minor": 0,
  "metadata": {
    "colab": {
      "name": "HW1.ipynb",
      "provenance": [],
      "collapsed_sections": [],
      "include_colab_link": true
    },
    "kernelspec": {
      "name": "python3",
      "display_name": "Python 3"
    }
  },
  "cells": [
    {
      "cell_type": "markdown",
      "metadata": {
        "id": "view-in-github",
        "colab_type": "text"
      },
      "source": [
        "<a href=\"https://colab.research.google.com/github/KirPim/DS_school_2020_home_work/blob/main/HW1.ipynb\" target=\"_parent\"><img src=\"https://colab.research.google.com/assets/colab-badge.svg\" alt=\"Open In Colab\"/></a>"
      ]
    },
    {
      "cell_type": "markdown",
      "metadata": {
        "id": "WjXO0FzDlftc"
      },
      "source": [
        "# Задания для самостоятельного выполнения\n",
        "\n",
        "**Подсказка!** проверяйте ваше решение по тому, что уже есть в блоках вывода ячеек"
      ]
    },
    {
      "cell_type": "markdown",
      "metadata": {
        "id": "4Wgp1FDn9oeh"
      },
      "source": [
        "## Задание 1\n",
        "\n",
        "Создайте список (list) с элементами от 1 до 10 включительно двумя разными способами:\n",
        "* при помощи list comprehensions\n",
        "* при помощи цикла for"
      ]
    },
    {
      "cell_type": "code",
      "metadata": {
        "colab": {
          "base_uri": "https://localhost:8080/"
        },
        "id": "Trw5fZtq-sKK",
        "outputId": "32ef97b4-e15e-428b-f6f7-173a2c0f0082"
      },
      "source": [
        "#Ваше решение тут\n",
        "\n",
        "s1 = [i for i in range(1, 11)]\n",
        "s2 = []\n",
        "\n",
        "for i in range(1, 11):\n",
        "  s2.append(i)\n",
        "\n",
        "print('list comprehentions: ', s1)\n",
        "print('цикл for: ', s2)\n"
      ],
      "execution_count": null,
      "outputs": [
        {
          "output_type": "stream",
          "text": [
            "list comprehentions:  [1, 2, 3, 4, 5, 6, 7, 8, 9, 10]\n",
            "цикл for:  [1, 2, 3, 4, 5, 6, 7, 8, 9, 10]\n"
          ],
          "name": "stdout"
        }
      ]
    },
    {
      "cell_type": "markdown",
      "metadata": {
        "id": "WFASdcHs-HDU"
      },
      "source": [
        "## Задание 2\n",
        "\n",
        "Создайте список (list) с **четными** элементами из промежутка от 1 до 10 включительно двумя разными способами:\n",
        "* при помощи list comprehensions\n",
        "* при помощи цикла for"
      ]
    },
    {
      "cell_type": "code",
      "metadata": {
        "colab": {
          "base_uri": "https://localhost:8080/"
        },
        "id": "DAB9tzx6lGg_",
        "outputId": "7de7db7f-6f63-4232-a41b-05af0eaf65a4"
      },
      "source": [
        "#Ваше решение тут\n",
        "\n",
        "s1 = [i for i in range(2, 11, 2)]\n",
        "s2 = []\n",
        "\n",
        "for i in range(2, 11, 2):\n",
        "  s2.append(i)\n",
        "\n",
        "print('list comprehentions: ', s1)\n",
        "print('цикл for: ', s2)\n"
      ],
      "execution_count": null,
      "outputs": [
        {
          "output_type": "stream",
          "text": [
            "list comprehentions:  [2, 4, 6, 8, 10]\n",
            "цикл for:  [2, 4, 6, 8, 10]\n"
          ],
          "name": "stdout"
        }
      ]
    },
    {
      "cell_type": "markdown",
      "metadata": {
        "id": "ART_Rcf8_D1Q"
      },
      "source": [
        "## Задание 3\n",
        "присвойте переменной **x** следующее значение:\n",
        "$$\n",
        "x=100^{3^{2}}-\\frac{10^{3}}{5^{2}}\n",
        "$$\n",
        "Выведите, чему теперь равна переменная **x**"
      ]
    },
    {
      "cell_type": "code",
      "metadata": {
        "colab": {
          "base_uri": "https://localhost:8080/"
        },
        "id": "60of6x1F-4xb",
        "outputId": "6619911c-056f-4b3d-97cd-d4892cda0c67"
      },
      "source": [
        "#Ваше решение тут\n",
        "\n",
        "x = (100**3)**2 - 10**3 / 5**2\n",
        "print(x)"
      ],
      "execution_count": null,
      "outputs": [
        {
          "output_type": "stream",
          "text": [
            "999999999960.0\n"
          ],
          "name": "stdout"
        }
      ]
    },
    {
      "cell_type": "markdown",
      "metadata": {
        "id": "JUkk796pANdG"
      },
      "source": [
        "## Задание 4\n",
        "\n",
        "Найдите, истинно ли, что 3 в 15 степени больше 3000 при условии, что 3 в 7й степени меньше 7 в 5й."
      ]
    },
    {
      "cell_type": "code",
      "metadata": {
        "colab": {
          "base_uri": "https://localhost:8080/"
        },
        "id": "1d68HG4SAg3t",
        "outputId": "1337dc40-3817-45db-c1ab-d31a224c89ae"
      },
      "source": [
        "#Ваше решение тут\n",
        "\n",
        "if 3**7 < 7**5:\n",
        "  x = (3**15 > 3000) \n",
        "  print(x)\n"
      ],
      "execution_count": null,
      "outputs": [
        {
          "output_type": "stream",
          "text": [
            "True\n"
          ],
          "name": "stdout"
        }
      ]
    },
    {
      "cell_type": "markdown",
      "metadata": {
        "id": "fIJhD6MSA7Sm"
      },
      "source": [
        "## Задание 5\n",
        "Мы принимаем целое число на ввод с клавиатуры (код предоставлен), вывести \"цена выше рынка\", если число выше 1200, \"цена ниже рыночной\", если число меньше 800 и \"все ок\" в остальных случаях."
      ]
    },
    {
      "cell_type": "code",
      "metadata": {
        "colab": {
          "base_uri": "https://localhost:8080/"
        },
        "id": "Z785bvZhAJHy",
        "outputId": "9c1b1067-2b27-4786-d34e-efe0b9d96adf"
      },
      "source": [
        "price = int(input('Введите цену товара: '))\n",
        "#Ваше решение тут\n",
        "\n",
        "if price < 800:\n",
        "  print('цена ниже рыночной')\n",
        "elif price <= 1200:\n",
        "  print('все ок')\n",
        "else:\n",
        "  print('цена выше рынка')\n",
        "\n"
      ],
      "execution_count": null,
      "outputs": [
        {
          "output_type": "stream",
          "text": [
            "Введите цену товара: 900\n",
            "все ок\n"
          ],
          "name": "stdout"
        }
      ]
    },
    {
      "cell_type": "markdown",
      "metadata": {
        "id": "t-FCWwCmBNjV"
      },
      "source": [
        "## Задание 6\n",
        "\n",
        "Даны два словаря: dictionary_1 = {'price_1': 300, 'price_2': 400} и dictionary_2 = {'price_1': 500, 'price_3': 600}. Объедините их в один при помощи встроенных функций языка Python (методов объекта dict)."
      ]
    },
    {
      "cell_type": "code",
      "metadata": {
        "colab": {
          "base_uri": "https://localhost:8080/"
        },
        "id": "M64tMdg3BGI-",
        "outputId": "d0c0bb9d-b8fc-446c-d1ba-b1c956a86313"
      },
      "source": [
        "#Ваше решение тут\n",
        "\n",
        "dictionary_1 = {'price_1': 300, 'price_2': 400}\n",
        "dictionary_2 = {'price_1': 500, 'price_3': 600}\n",
        "\n",
        "dictionary_1.update(dictionary_2)\n",
        "print(dictionary_1)\n"
      ],
      "execution_count": null,
      "outputs": [
        {
          "output_type": "stream",
          "text": [
            "{'price_1': 500, 'price_2': 400, 'price_3': 600}\n"
          ],
          "name": "stdout"
        }
      ]
    },
    {
      "cell_type": "markdown",
      "metadata": {
        "id": "VYrTaYnpDv3e"
      },
      "source": [
        "## Задание 7\n",
        "Сравните время, затраченное на вычисление частного списков list со значениями от 1 до 10^6 и время, затраченное на вычисление частного массивов типа numpy arrays со значениями от 1 до 10^6 (см. пункт \" Numpy array vs Python list\" в этом ноутбуке)\n",
        "\n",
        "*Подсказка! для генерации list используйте функцию range(), для генерации numpy array - np.arange()*"
      ]
    },
    {
      "cell_type": "code",
      "metadata": {
        "colab": {
          "base_uri": "https://localhost:8080/"
        },
        "id": "Ujh0N0ZvCvfe",
        "outputId": "a93c899d-c17c-4dc9-cd62-cf6a6c78d32d"
      },
      "source": [
        "#Ваше решение тут\n",
        "\n",
        "import numpy as np\n",
        "import time \n",
        "\n",
        "n = 1000000\n",
        "\n",
        "list1 = [i for i in range(1, n+1)]\n",
        "list2 = [i for i in range(1, n+1)]\n",
        "\n",
        "array1 = np.arange(1, n+1)   \n",
        "array2 = np.arange(1, n+1) \n",
        "\n",
        "print(\"\\n Частное массивов :\")\n",
        "\n",
        "initialTime = time.time() \n",
        "  \n",
        "resultantList = [(a / b) for a, b in zip(list1, list2)] \n",
        "   \n",
        "print(\"Время затраченное на перемножение списков типа list:\",  \n",
        "      (time.time() - initialTime), \n",
        "      \"секунд\") \n",
        "   \n",
        "initialTime = time.time() \n",
        "  \n",
        "resultantArray = array1 / array2 \n",
        "   \n",
        "print(\"Время затраченное на перемножение массивов типа ndarray:\", \n",
        "      (time.time() - initialTime), \n",
        "      \"секунд\") "
      ],
      "execution_count": null,
      "outputs": [
        {
          "output_type": "stream",
          "text": [
            "\n",
            " Частное массивов :\n",
            "Время затраченное на перемножение списков типа list: 0.10118556022644043 секунд\n",
            "Время затраченное на перемножение массивов типа ndarray: 0.006295204162597656 секунд\n"
          ],
          "name": "stdout"
        }
      ]
    },
    {
      "cell_type": "markdown",
      "metadata": {
        "id": "rw7v8PGlFeKj"
      },
      "source": [
        "## Задание 8\n",
        "\n",
        "Напишите цикл, который выводит все числа от 0 до 500, делящиеся на 7, если в них есть цифра 8.\n",
        "Подсказка: переменную типа int можно привести к типу str:\n",
        "```\n",
        "x = 5\n",
        "y = str(x)\n",
        "```"
      ]
    },
    {
      "cell_type": "code",
      "metadata": {
        "id": "95xgUWkhEAio",
        "colab": {
          "base_uri": "https://localhost:8080/"
        },
        "outputId": "3b60cf3a-783b-499d-a64f-f4ac39cc972e"
      },
      "source": [
        "#Ваше решение тут\n",
        "\n",
        "for i in range(501):\n",
        "  if '8' in str(i) and i % 7 == 0:\n",
        "    print(i, end = ' ')\n"
      ],
      "execution_count": null,
      "outputs": [
        {
          "output_type": "stream",
          "text": [
            "28 84 98 168 182 189 238 280 287 308 378 385 448 483 "
          ],
          "name": "stdout"
        }
      ]
    },
    {
      "cell_type": "markdown",
      "metadata": {
        "id": "ORiF3smuGPSU"
      },
      "source": [
        "## Задание 9\n",
        "Дан массив строк mas. Одной строкой создайте словарь, в котором по ключу строки будет записана пара (кортеж длины 2) (индекс строки в массиве mas, длина строки)"
      ]
    },
    {
      "cell_type": "code",
      "metadata": {
        "colab": {
          "base_uri": "https://localhost:8080/"
        },
        "id": "WGm-xViIFwNS",
        "outputId": "b9664b23-276d-4056-e4e8-d1dd45a4b0b7"
      },
      "source": [
        "mas = ['abc', 'def', 'hello', 'world']\n",
        "#Ваше решение тут\n",
        "\n",
        "dict_result = {mas[i] : (i, len(mas[i])) for i in range(len(mas))}\n",
        "dict_result\n"
      ],
      "execution_count": null,
      "outputs": [
        {
          "output_type": "execute_result",
          "data": {
            "text/plain": [
              "{'abc': (0, 3), 'def': (1, 3), 'hello': (2, 5), 'world': (3, 5)}"
            ]
          },
          "metadata": {
            "tags": []
          },
          "execution_count": 9
        }
      ]
    },
    {
      "cell_type": "markdown",
      "metadata": {
        "id": "JOfOYKkNHMPy"
      },
      "source": [
        "## Задание 10\n",
        "Реализовать функцию, которая сохраняет в 2 глобальные переменные:\n",
        "сумму всех позиционных аргументов - релизовать через lambda;\n",
        "название всех именованных аргументов в виде списка."
      ]
    },
    {
      "cell_type": "code",
      "metadata": {
        "colab": {
          "base_uri": "https://localhost:8080/"
        },
        "id": "3xg8ELhdTb12",
        "outputId": "826d0e0a-1c6b-4a97-e1ef-7370d594fa33"
      },
      "source": [
        "summ = 0\n",
        "names = []\n",
        "#Ваше решение тут\n",
        "\n",
        "def my_func(*args, **kwargs):\n",
        "  global summ\n",
        "  global names\n",
        "\n",
        "  f = lambda *x: sum(x)\n",
        "  summ = f(*args)\n",
        "  \n",
        "  #summ = sum(args)   # не совсем понял, зачем реализовывать через lambda, проще так, как слева\n",
        "\n",
        "  for i in kwargs.keys():\n",
        "    names.append(i)\n",
        "\n",
        "my_func(1, 2, 3, 4, 5, 6, a=1, b=5, c=25)\n",
        "print(f'Cумма {summ}, названия {names}')\n",
        "\n"
      ],
      "execution_count": null,
      "outputs": [
        {
          "output_type": "stream",
          "text": [
            "Cумма 21, названия ['a', 'b', 'c']\n"
          ],
          "name": "stdout"
        }
      ]
    }
  ]
}