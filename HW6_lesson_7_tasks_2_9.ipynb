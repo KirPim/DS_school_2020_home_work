{
  "nbformat": 4,
  "nbformat_minor": 0,
  "metadata": {
    "colab": {
      "name": "HW6_lesson_7_tasks_2-9.ipynb",
      "provenance": [],
      "collapsed_sections": [],
      "include_colab_link": true
    },
    "kernelspec": {
      "name": "python3",
      "display_name": "Python 3"
    }
  },
  "cells": [
    {
      "cell_type": "markdown",
      "metadata": {
        "id": "view-in-github",
        "colab_type": "text"
      },
      "source": [
        "<a href=\"https://colab.research.google.com/github/KirPim/DS_school_2020_home_work/blob/main/HW6_lesson_7_tasks_2_9.ipynb\" target=\"_parent\"><img src=\"https://colab.research.google.com/assets/colab-badge.svg\" alt=\"Open In Colab\"/></a>"
      ]
    },
    {
      "cell_type": "markdown",
      "metadata": {
        "id": "PDkG3Bis38V_"
      },
      "source": [
        "# Домашнее задание к 7 уроку.\n",
        "\n",
        "**Дедлайн: 23.12.2020**"
      ]
    },
    {
      "cell_type": "markdown",
      "metadata": {
        "id": "T_frQ-789isH"
      },
      "source": [
        "colab: https://colab.research.google.com/drive/1KLD5pDCa0ka_g1U4D2ExihaaEwXzfTPW?usp=sharing"
      ]
    },
    {
      "cell_type": "markdown",
      "metadata": {
        "id": "PzhnPFbL3igE"
      },
      "source": [
        "**ФОРМАТ ОТЧЕТНОСТИ:** pdf-файл с решенными задачами (задачи 2-9), ноутбук с проверкой решения этих задач (при помощи numpy), и pdf файл с отчетом по 1-ой задаче (краткий пересказ статьи). Вы можете оформить решения с использованием Markdown (писать текст прямо в юпитер ноутбуке), Latex, Word или же решить в тетради и сформировать pdf из фото.\n",
        "\n",
        "Итого: 2 pdf файла.\n",
        "\n",
        "Все задания необходимо выполнять ВРУЧНУЮ. А также проверить корректность полученных результатов с использованием Numpy.\n",
        "\n",
        "Туториал как писать \"Latex-формулы\" прямо в Юпитере:\n",
        "https://www.youtube.com/watch?v=vSc25kdgecg\n",
        "\n",
        "Ноутбук с примером формул: https://nbviewer.jupyter.org/github/postlogist/course_opt/blob/master/jupyter_tutorial/02_markdown.ipynb\n"
      ]
    },
    {
      "cell_type": "markdown",
      "metadata": {
        "id": "RU2u4fG55fBq"
      },
      "source": [
        "## Пример\n",
        "\n",
        "\n",
        "Найдем ранг матрицы \n",
        "\n",
        "$$\\begin{pmatrix}\n",
        "1 & 2 & 3 & 4 & 5\\\\ \n",
        "2 & 5 & 8 & 11 & 14\\\\ \n",
        "3 & 9 & 14 & 20 & 26\\\\ \n",
        "5 & 14 & 22 & 31 & 40\n",
        "\\end{pmatrix}.$$\n",
        "\n",
        "Четвертая строка является суммой второй и третьей строк, а значит, ее можно отбросить:\n",
        "\n",
        "$$\\begin{pmatrix}\n",
        "1 & 2 & 3 & 4 & 5\\\\ \n",
        "2 & 5 & 8 & 11 & 14\\\\ \n",
        "3 & 9 & 14 & 20 & 26\n",
        "\\end{pmatrix}.$$\n",
        "\n",
        "Из второй и третьей строк вычтем первую, умноженную на $2$ и $3$ соответственно:\n",
        "\n",
        "$$\\begin{pmatrix}\n",
        "1 & 2 & 3 & 4 & 5\\\\ \n",
        "0 & 1 & 2 & 3 & 4\\\\ \n",
        "0 & 2 & 5 & 8 & 11\n",
        "\\end{pmatrix}.$$\n",
        "\n",
        "И вычтем из третьей строки вторую, умноженную на $2$:\n",
        "\n",
        "$$\\begin{pmatrix}\n",
        "1 & 2 & 3 & 4 & 5\\\\ \n",
        "0 & 1 & 2 & 3 & 4\\\\ \n",
        "0 & 0 & 1 & 2 & 3\n",
        "\\end{pmatrix}.$$\n",
        "\n",
        "Таким образом, ранг матрицы равен $3$."
      ]
    },
    {
      "cell_type": "code",
      "metadata": {
        "colab": {
          "base_uri": "https://localhost:8080/"
        },
        "id": "c3mJUpE65vak",
        "outputId": "3f721417-8cc7-480e-b988-5106748cd4b0"
      },
      "source": [
        "# Проверка\n",
        "\n",
        "import numpy as np\n",
        "a = [1, 2, 3, 4, 5]\n",
        "b = [2, 5, 8, 11, 14]\n",
        "c = [3, 9, 14, 20, 26]\n",
        "d = [5, 14, 22, 31, 40]\n",
        "\n",
        "x = np.array([a, b, c, d])\n",
        "r = np.linalg.matrix_rank(x)\n",
        "\n",
        "print(f'Ранг матрицы: {r}')"
      ],
      "execution_count": null,
      "outputs": [
        {
          "output_type": "stream",
          "text": [
            "Ранг матрицы: 3\n"
          ],
          "name": "stdout"
        }
      ]
    },
    {
      "cell_type": "markdown",
      "metadata": {
        "id": "1NlQHLnE5iV-"
      },
      "source": [
        "# Задачи"
      ]
    },
    {
      "cell_type": "markdown",
      "metadata": {
        "id": "oOoLPT-d232H"
      },
      "source": [
        "**1.** Прочитать статью http://www.scielo.org.mx/pdf/cys/v18n3/v18n3a7.pdf и сделать следующее:\n",
        "\n",
        "- Написать кратко (не более 300 слов (минимум 100), отчет в формате pdf) о различиях между cosine similarity и soft similarity. Привести примеры использования и написать собственный пример вычисления cosine similarity и soft similarity для произвольных векторов (не брать вектора из статьи! надо самим придумать координаты/размерность векторов)"
      ]
    },
    {
      "cell_type": "markdown",
      "metadata": {
        "id": "2A79cNRu3BUA"
      },
      "source": [
        "__2.__ Найти сумму и произведение матриц $A=\\begin{pmatrix}\n",
        "1 & -2\\\\ \n",
        "3 & 0\n",
        "\\end{pmatrix}$ и $B=\\begin{pmatrix}\n",
        "4 & -1\\\\ \n",
        "0 & 5\n",
        "\\end{pmatrix}.$\n",
        "\n",
        "__3.__ Из закономерностей сложения и умножения матриц на число можно сделать вывод, что матрицы одного размера образуют линейное пространство. Вычислить линейную комбинацию $3A-2B+4C$ для матриц $A=\\begin{pmatrix}\n",
        "1 & 7\\\\ \n",
        "3 & -6\n",
        "\\end{pmatrix}$, $B=\\begin{pmatrix}\n",
        "0 & 5\\\\ \n",
        "2 & -1\n",
        "\\end{pmatrix}$, $C=\\begin{pmatrix}\n",
        "2 & -4\\\\ \n",
        "1 & 1\n",
        "\\end{pmatrix}.$\n",
        "    \n",
        "__4.__ Дана матрица $A=\\begin{pmatrix}\n",
        "4 & 1\\\\ \n",
        "5 & -2\\\\ \n",
        "2 & 3\n",
        "\\end{pmatrix}$.\n",
        "Вычислить $AA^{T}$ и $A^{T}A$.\n",
        "\n",
        "__5*.__ Написать на Python функцию для перемножения двух произвольных матриц, не используя NumPy."
      ]
    },
    {
      "cell_type": "markdown",
      "metadata": {
        "id": "-naSOZaf3L7s"
      },
      "source": [
        "\n",
        "__6.__ Вычислить определитель (используйте любой удобный для вас способ вычисления определителя: через миноры, через перестановки или другой):\n",
        "\n",
        "   a)\n",
        "\n",
        "$$\\begin{vmatrix}\n",
        "sinx & -cosx\\\\ \n",
        "cosx & sinx\n",
        "\\end{vmatrix};$$\n",
        "\n",
        "   б)\n",
        "    \n",
        "$$\\begin{vmatrix}\n",
        "8 & 4 & 6\\\\ \n",
        "0 & 5 & 1\\\\ \n",
        "0 & 0 & 9\n",
        "\\end{vmatrix};$$\n",
        "    \n",
        "   в)\n",
        "\n",
        "$$\\begin{vmatrix}\n",
        "2 & 3 & 4\\\\ \n",
        "5 & 6 & 7\\\\ \n",
        "8 & 9 & 10\n",
        "\\end{vmatrix}.$$\n",
        "\n",
        "\n",
        "__7.__ Определитель матрицы $A$ равен $4$. Найти:\n",
        "\n",
        "   а) $det(A^{2})$;\n",
        "    \n",
        "   б) $det(A^{T})$;\n",
        "    \n",
        "   в) $det(2A)$.\n",
        "   \n",
        "__8.__  Доказать, что матрица\n",
        "\n",
        "$$\\begin{pmatrix}\n",
        "-2 & 7 & -3\\\\ \n",
        "4 & -14 & 6\\\\ \n",
        "-3 & 7 & 13\n",
        "\\end{pmatrix}$$\n",
        "   \n",
        "вырожденная.\n",
        "\n",
        "__9.__ Найти ранг матрицы:\n",
        "\n",
        "   а) $\\begin{pmatrix}\n",
        "1 & 2 & 3\\\\ \n",
        "1 & 1 & 1\\\\ \n",
        "2 & 3 & 4\n",
        "\\end{pmatrix};$\n",
        "\n",
        "   б) $\\begin{pmatrix}\n",
        "0 & 0 & 2 & 1\\\\ \n",
        "0 & 0 & 2 & 2\\\\ \n",
        "0 & 0 & 4 & 3\\\\ \n",
        "2 & 3 & 5 & 6\n",
        "\\end{pmatrix}.$"
      ]
    },
    {
      "cell_type": "markdown",
      "metadata": {
        "id": "ekAaqmaE3E1T"
      },
      "source": [
        "# Доп материалы\n",
        "1. [Способы задать матрицу в NumPy](https://docs.scipy.org/doc/numpy-1.10.1/user/basics.creation.html).\n",
        "2. [numpy.transpose](https://docs.scipy.org/doc/numpy-1.10.0/reference/generated/numpy.transpose.html).\n",
        "3. [array.T](https://docs.scipy.org/doc/numpy-1.10.0/reference/generated/numpy.ndarray.T.html).\n",
        "4. [Перемножение матриц в NumPy](https://docs.scipy.org/doc/numpy-1.10.0/reference/routines.linalg.html#matrix-and-vector-products).\n",
        "\n",
        "5. [Определитель матрицы в NumPy](https://docs.scipy.org/doc/numpy-1.14.2/reference/generated/numpy.linalg.det.html)\n",
        "\n",
        "6. [Ранг матрицы в NumPy](https://docs.scipy.org/doc/numpy-1.14.2/reference/generated/numpy.linalg.matrix_rank.html)\n",
        "\n",
        "7. [Обращение матриц в NumPy](https://docs.scipy.org/doc/numpy/reference/generated/numpy.linalg.inv.html)"
      ]
    },
    {
      "cell_type": "markdown",
      "metadata": {
        "id": "_jidQNbg_Lzz"
      },
      "source": [
        ""
      ]
    },
    {
      "cell_type": "markdown",
      "metadata": {
        "id": "c3pTM4h38FII"
      },
      "source": [
        "#Решение\r\n"
      ]
    },
    {
      "cell_type": "markdown",
      "metadata": {
        "id": "z1jjm9DM8RRz"
      },
      "source": [
        "__2)__ $A=\\begin{pmatrix}\r\n",
        "1 & -2\\\\ \r\n",
        "3 & 0\r\n",
        "\\end{pmatrix}$, $B=\\begin{pmatrix}\r\n",
        "4 & -1\\\\ \r\n",
        "0 & 5\r\n",
        "\\end{pmatrix}.$\r\n",
        "\r\n",
        "$A + B = \\begin{pmatrix}\r\n",
        "1 & -2\\\\ \r\n",
        "3 & 0\r\n",
        "\\end{pmatrix} +\r\n",
        "\\begin{pmatrix}\r\n",
        "4 & -1\\\\ \r\n",
        "0 & 5\r\n",
        "\\end{pmatrix} =   \r\n",
        "\\begin{pmatrix}\r\n",
        "1+4 & -2-1\\\\ \r\n",
        "3+0 & 0+5\r\n",
        "\\end{pmatrix} = \r\n",
        "\\begin{pmatrix}\r\n",
        "5 & -3\\\\ \r\n",
        "3 & 5\r\n",
        "\\end{pmatrix}\r\n",
        "$"
      ]
    },
    {
      "cell_type": "markdown",
      "metadata": {
        "id": "bIj-dpyb9tyr"
      },
      "source": [
        "$AB = \\begin{pmatrix}\r\n",
        "1 & -2\\\\ \r\n",
        "3 & 0\r\n",
        "\\end{pmatrix} \\cdot\r\n",
        "\\begin{pmatrix}\r\n",
        "4 & -1\\\\ \r\n",
        "0 & 5\r\n",
        "\\end{pmatrix} =   \r\n",
        "\\begin{pmatrix}\r\n",
        "4+0 & -1-10\\\\ \r\n",
        "12+0 & -3+0\r\n",
        "\\end{pmatrix} = \r\n",
        "\\begin{pmatrix}\r\n",
        "4 & -11\\\\ \r\n",
        "12 & -3\r\n",
        "\\end{pmatrix}\r\n",
        "$"
      ]
    },
    {
      "cell_type": "code",
      "metadata": {
        "colab": {
          "base_uri": "https://localhost:8080/"
        },
        "id": "VbGmztxm-9PL",
        "outputId": "c744d669-8ee1-41f3-e62f-8f3b03dfc2b8"
      },
      "source": [
        "#Проверка\r\n",
        "A = np.array([[1, -2], [3, 0]])\r\n",
        "B = np.array([[4, -1], [0, 5]])\r\n",
        "\r\n",
        "print(f'Матрица A\\n{A}')\r\n",
        "print(f'Матрица B\\n{B}')\r\n",
        "print(f'Матрица A+B\\n{A + B}')\r\n",
        "print(f'Матрица AB\\n{A@B}')\r\n"
      ],
      "execution_count": null,
      "outputs": [
        {
          "output_type": "stream",
          "text": [
            "Матрица A\n",
            "[[ 1 -2]\n",
            " [ 3  0]]\n",
            "Матрица B\n",
            "[[ 4 -1]\n",
            " [ 0  5]]\n",
            "Матрица A+B\n",
            "[[ 5 -3]\n",
            " [ 3  5]]\n",
            "Матрица AB\n",
            "[[  4 -11]\n",
            " [ 12  -3]]\n"
          ],
          "name": "stdout"
        }
      ]
    },
    {
      "cell_type": "markdown",
      "metadata": {
        "id": "_s8on7RmADpD"
      },
      "source": [
        "__3)__ $A=\\begin{pmatrix}\r\n",
        "1 & 7\\\\ \r\n",
        "3 & -6\r\n",
        "\\end{pmatrix}$, $B=\\begin{pmatrix}\r\n",
        "0 & 5\\\\ \r\n",
        "2 & -1\r\n",
        "\\end{pmatrix}$, $C=\\begin{pmatrix}\r\n",
        "2 & -4\\\\ \r\n",
        "1 & 1\r\n",
        "\\end{pmatrix}.$\r\n",
        "\r\n",
        "$3A-2B+4C=\r\n",
        "3\\cdot\\begin{pmatrix} 1 & 7\\\\3 & -6\\end{pmatrix}\r\n",
        "-2\\cdot\\begin{pmatrix}0 & 5\\\\2 & -1\\end{pmatrix}\r\n",
        "+4\\cdot\\begin{pmatrix}2 & -4\\\\1 & 1\\end{pmatrix}\r\n",
        "=\\begin{pmatrix}3 & 21\\\\9 & -18\\end{pmatrix}\r\n",
        "+\\begin{pmatrix}0 & -10\\\\-4 & 2\\end{pmatrix}\r\n",
        "+\\begin{pmatrix}8 & -16\\\\4 & 4\\end{pmatrix}\r\n",
        "=\\begin{pmatrix}11 & -5\\\\9 & -12\\end{pmatrix}\r\n",
        "$"
      ]
    },
    {
      "cell_type": "code",
      "metadata": {
        "colab": {
          "base_uri": "https://localhost:8080/"
        },
        "id": "mvAk3tLbDSi-",
        "outputId": "b39b8454-70c4-42ca-ac0d-f01e60c6e202"
      },
      "source": [
        "#Проверка\r\n",
        "A = np.array([[1, 7], [3, -6]])\r\n",
        "B = np.array([[0, 5], [2, -1]])\r\n",
        "C = np.array([[2, -4], [1, 1]])\r\n",
        "\r\n",
        "print(f'Матрица A\\n{A}')\r\n",
        "print(f'Матрица B\\n{B}')\r\n",
        "print(f'Матрица C\\n{C}')\r\n",
        "print(f'3A-2B+4C=\\n{3 * A - 2 * B + 4 * C}')"
      ],
      "execution_count": null,
      "outputs": [
        {
          "output_type": "stream",
          "text": [
            "Матрица A\n",
            "[[ 1  7]\n",
            " [ 3 -6]]\n",
            "Матрица B\n",
            "[[ 0  5]\n",
            " [ 2 -1]]\n",
            "Матрица C\n",
            "[[ 2 -4]\n",
            " [ 1  1]]\n",
            "3A-2B+4C=\n",
            "[[ 11  -5]\n",
            " [  9 -12]]\n"
          ],
          "name": "stdout"
        }
      ]
    },
    {
      "cell_type": "markdown",
      "metadata": {
        "id": "_4p0q5pxFkBN"
      },
      "source": [
        "__4)__ $A=\\begin{pmatrix}\r\n",
        "4 & 1\\\\ \r\n",
        "5 & -2\\\\ \r\n",
        "2 & 3\r\n",
        "\\end{pmatrix}$.\r\n",
        "\r\n",
        "$AA^{T}=\r\n",
        "\\begin{pmatrix}4 & 1\\\\5 & -2\\\\2 & 3\\end{pmatrix}\r\n",
        "\\cdot\r\n",
        "\\begin{pmatrix}4 & 5 & 2\\\\1 & -2 & 3\\end{pmatrix}\r\n",
        "=\r\n",
        "\\begin{pmatrix}16+1 & 20-2 & 8+3\r\n",
        "\\\\20-2 & 25+4 & 10-6\r\n",
        "\\\\8+3 & 10-6 & 4+9\\end{pmatrix}\r\n",
        "=\r\n",
        "\\begin{pmatrix}17 & 18 & 11\\\\18 & 29 & 4\\\\11 & 4 & 13\\end{pmatrix}\r\n",
        "$\r\n",
        "\r\n",
        "$A^{T}A=\r\n",
        "\\begin{pmatrix}4 & 5 & 2\\\\1 & -2 & 3\\end{pmatrix}\r\n",
        "\\cdot\r\n",
        "\\begin{pmatrix}4 & 1\\\\5 & -2\\\\2 & 3\\end{pmatrix}\r\n",
        "=\r\n",
        "\\begin{pmatrix}16+25+4 & 4-10+6\\\\4-10+6 & 1+4+9\\end{pmatrix}\r\n",
        "=\r\n",
        "\\begin{pmatrix}45 & 0\\\\0 & 14\\end{pmatrix}\r\n",
        "$"
      ]
    },
    {
      "cell_type": "code",
      "metadata": {
        "colab": {
          "base_uri": "https://localhost:8080/"
        },
        "id": "-mvKzVCYFi_o",
        "outputId": "a91d36dc-243c-4038-81ef-5d212a9ed6d3"
      },
      "source": [
        "#Проверка\r\n",
        "A = np.array([[4, 1], [5, -2], [2, 3]])\r\n",
        "\r\n",
        "print(f'Матрица A\\n{A}')\r\n",
        "print(f'A(AT)=\\n{A @ A.T}')\r\n",
        "print(f'(AT)A=\\n{A.T @ A}')"
      ],
      "execution_count": null,
      "outputs": [
        {
          "output_type": "stream",
          "text": [
            "Матрица A\n",
            "[[ 4  1]\n",
            " [ 5 -2]\n",
            " [ 2  3]]\n",
            "A(AT)=\n",
            "[[17 18 11]\n",
            " [18 29  4]\n",
            " [11  4 13]]\n",
            "(AT)A=\n",
            "[[45  0]\n",
            " [ 0 14]]\n"
          ],
          "name": "stdout"
        }
      ]
    },
    {
      "cell_type": "markdown",
      "metadata": {
        "id": "nQdKtCk3X9pP"
      },
      "source": [
        "__5*)__ Написать на Python функцию для перемножения двух произвольных матриц, не используя NumPy."
      ]
    },
    {
      "cell_type": "code",
      "metadata": {
        "colab": {
          "base_uri": "https://localhost:8080/"
        },
        "id": "4AJLu51zX_1Y",
        "outputId": "7a5da69a-39cf-4589-fd07-848621a6d310"
      },
      "source": [
        "def matrix_comp(a, b):\r\n",
        "  m = len(a)\r\n",
        "  n = len(b[0])\r\n",
        "  p = len(b)\r\n",
        "  \r\n",
        "  c = [[0 for j in range(n)] for i in range(m)]\r\n",
        "  summa = 0\r\n",
        "\r\n",
        "  for i in range(m):\r\n",
        "    for j in range(n):\r\n",
        "      summa = 0\r\n",
        "      for k in range(p):\r\n",
        "        summa += a[i][k] * b[k][j]\r\n",
        "        c[i][j] = summa        \r\n",
        "  return c\r\n",
        "\r\n",
        "#Проверка\r\n",
        "\r\n",
        "a = [[4, 1], [5, -2], [2, 3]]\r\n",
        "b = [[4, 5, 2], [1, -2, 3]]\r\n",
        "matrix_comp(a, b)"
      ],
      "execution_count": null,
      "outputs": [
        {
          "output_type": "execute_result",
          "data": {
            "text/plain": [
              "[[17, 18, 11], [18, 29, 4], [11, 4, 13]]"
            ]
          },
          "metadata": {
            "tags": []
          },
          "execution_count": 5
        }
      ]
    },
    {
      "cell_type": "markdown",
      "metadata": {
        "id": "WnKXegQXcwTh"
      },
      "source": [
        "__6)__ Вычислить определитель:\r\n",
        "\r\n",
        "a)\r\n",
        "$\\begin{vmatrix} sinx & -cosx\\\\cosx & sinx\\end{vmatrix}\r\n",
        "=sin^{2}x + cos^{2}x = 1\r\n",
        "$\r\n",
        "\r\n",
        "б)\r\n",
        "$\\begin{vmatrix} 8 & 4 & 6\\\\0 & 5 & 1\\\\0 & 0 & 9\\end{vmatrix}\r\n",
        "=8\\cdot\\begin{vmatrix} 5 & 1\\\\0 & 9\\end{vmatrix}\r\n",
        "-4\\cdot\\begin{vmatrix} 0 & 1\\\\0 & 9\\end{vmatrix} \r\n",
        "+6\\cdot\\begin{vmatrix} 0 & 5\\\\0 & 0\\end{vmatrix}\r\n",
        "=8\\cdot(5\\cdot9-0\\cdot1)-4\\cdot(0\\cdot9-0\\cdot1)+6\\cdot(0\\cdot0-0\\cdot5)\r\n",
        "=8\\cdot45-4\\cdot0+6\\cdot0\r\n",
        "=360\r\n",
        "$\r\n",
        "    \r\n",
        "в)\r\n",
        "$\\begin{vmatrix} 2 & 3 & 4\\\\5 & 6 & 7\\\\8 & 9 & 10\\end{vmatrix}\r\n",
        "=2\\cdot\\begin{vmatrix} 6 & 7\\\\9 & 10\\end{vmatrix}\r\n",
        "-3\\cdot\\begin{vmatrix} 5 & 7\\\\8 & 10\\end{vmatrix} \r\n",
        "+4\\cdot\\begin{vmatrix} 5 & 6\\\\8 & 9\\end{vmatrix}\r\n",
        "=2\\cdot(6\\cdot10-9\\cdot7)-3\\cdot(5\\cdot10-8\\cdot7)+4\\cdot(5\\cdot9-8\\cdot6)\r\n",
        "=2\\cdot(-3)-3\\cdot(-6)+4\\cdot(-3)\r\n",
        "=0\r\n",
        "$"
      ]
    },
    {
      "cell_type": "code",
      "metadata": {
        "colab": {
          "base_uri": "https://localhost:8080/"
        },
        "id": "QUvDGZiNhmoP",
        "outputId": "bbab8226-9d4e-4534-9b29-920cb7fb6d46"
      },
      "source": [
        "#Проверка\r\n",
        "\r\n",
        "A2 = np.array([[8, 4, 6], [0, 5, 1], [0, 0, 9]])\r\n",
        "A3 = np.array([[2, 3, 4], [5, 6, 7], [8, 9, 10]])\r\n",
        "\r\n",
        "print(f'Матрица A2:\\n{A2}')\r\n",
        "print(f'Определитель A2:\\n{np.linalg.det(A2):.0f}')\r\n",
        "print(f'Матрица A3:\\n{A3}')\r\n",
        "print(f'Определитель A3:\\n{np.linalg.det(A3):.0f}')"
      ],
      "execution_count": null,
      "outputs": [
        {
          "output_type": "stream",
          "text": [
            "Матрица A2:\n",
            "[[8 4 6]\n",
            " [0 5 1]\n",
            " [0 0 9]]\n",
            "Определитель A2:\n",
            "360\n",
            "Матрица A3:\n",
            "[[ 2  3  4]\n",
            " [ 5  6  7]\n",
            " [ 8  9 10]]\n",
            "Определитель A3:\n",
            "0\n"
          ],
          "name": "stdout"
        }
      ]
    },
    {
      "cell_type": "markdown",
      "metadata": {
        "id": "kNOdKo7lEoFp"
      },
      "source": [
        "__7)__ $det(A)=4$\r\n",
        "\r\n",
        "   а) $det(A^{2})=det(AA)=det(A)\\cdot det(A)=4\\cdot4=16$;\r\n",
        "    \r\n",
        "   б) $det(A^{T})=det(A)=4$;\r\n",
        "    \r\n",
        "   в) $det(2A)=2^n\\cdot det(A)=2^n\\cdot4=2^{n+2}$, где $n$ - порядок матрицы"
      ]
    },
    {
      "cell_type": "code",
      "metadata": {
        "colab": {
          "base_uri": "https://localhost:8080/"
        },
        "id": "NjKX0gj1Gt20",
        "outputId": "c8ed8677-2350-4859-9067-c2f85dcd1c94"
      },
      "source": [
        "#Проверка\r\n",
        "\r\n",
        "A = np.array([[3, 2], [1, 2]])\r\n",
        "\r\n",
        "print(f'Матрица A:{A}')\r\n",
        "print(f'Определитель A={np.linalg.det(A):.0f}')\r\n",
        "print(f'Определитель A^2={np.linalg.det(A @ A):.0f}')\r\n",
        "print(f'Определитель AT={np.linalg.det(A.T):.0f}')\r\n",
        "print(f'Определитель 2A={np.linalg.det(2 * A):.0f}')"
      ],
      "execution_count": null,
      "outputs": [
        {
          "output_type": "stream",
          "text": [
            "Матрица A:[[3 2]\n",
            " [1 2]]\n",
            "Определитель A=4\n",
            "Определитель A^2=16\n",
            "Определитель AT=4\n",
            "Определитель 2A=16\n"
          ],
          "name": "stdout"
        }
      ]
    },
    {
      "cell_type": "markdown",
      "metadata": {
        "id": "-4rfUWL4MTLT"
      },
      "source": [
        "__8)__  $A=\\begin{pmatrix} -2 & 7 & -3\\\\4 & -14 & 6\\\\-3 & 7 & 13\\end{pmatrix}$\r\n",
        "\r\n",
        "$$det(A)=\\begin{vmatrix} -2 & 7 & -3\\\\4 & -14 & 6\\\\-3 & 7 & 13\\end{vmatrix}\r\n",
        "=-2\\cdot \\begin{vmatrix} -2 & 7 & -3\\\\-2 & 7 & -3\\\\-3 & 7 & 13\\end{vmatrix}\r\n",
        "=-2\\cdot \\begin{vmatrix} 0 & 0 & 0\\\\-2 & 7 & -3\\\\-3 & 7 & 13\\end{vmatrix}\r\n",
        "=-2\\cdot 0\\cdot \\begin{vmatrix} 7 & -3\\\\7 & 13\\end{vmatrix}\r\n",
        "+2\\cdot 0\\cdot \\begin{vmatrix} -2 & -3\\\\-3 & 13\\end{vmatrix}\r\n",
        "-2\\cdot 0\\cdot \\begin{vmatrix} -2 & 7\\\\-3 & 7\\end{vmatrix}\r\n",
        "=0\r\n",
        "$$ \r\n",
        "=> матрица $A$ вырожденная"
      ]
    },
    {
      "cell_type": "code",
      "metadata": {
        "colab": {
          "base_uri": "https://localhost:8080/"
        },
        "id": "ZURCuE-cXTkU",
        "outputId": "fb3755db-e19f-46a5-ec86-e0968b7b106f"
      },
      "source": [
        "#Проверка\r\n",
        "\r\n",
        "A = np.array([[-2, 7, -3], [4, -14, 6], [-3, 7, 13]])\r\n",
        "\r\n",
        "print(f'Матрица A:\\n{A}')\r\n",
        "print(f'\\nОпределитель A={np.linalg.det(A):.0f}')"
      ],
      "execution_count": null,
      "outputs": [
        {
          "output_type": "stream",
          "text": [
            "Матрица A:\n",
            "[[ -2   7  -3]\n",
            " [  4 -14   6]\n",
            " [ -3   7  13]]\n",
            "\n",
            "Определитель A=0\n"
          ],
          "name": "stdout"
        }
      ]
    },
    {
      "cell_type": "markdown",
      "metadata": {
        "id": "7vFDMMOOYeYm"
      },
      "source": [
        "__9)__ Найти ранг матрицы:\r\n",
        "\r\n",
        "а) $\\begin{pmatrix} 1 & 2 & 3\\\\1 & 1 & 1\\\\2 & 3 & 4\\end{pmatrix}\r\n",
        "-> \\begin{pmatrix} 1 & 2 & 3\\\\1 & 1 & 1\\\\1 & 2 & 3\\end{pmatrix}\r\n",
        "-> \\begin{pmatrix} 1 & 2 & 3\\\\1 & 1 & 1\\\\1 & 2 & 3\\end{pmatrix}\r\n",
        "-> \\begin{pmatrix} 1 & 2 & 3\\\\1 & 1 & 1\\end{pmatrix}\r\n",
        "-> \\begin{pmatrix} 0 & 1 & 2\\\\1 & 1 & 1\\end{pmatrix}\r\n",
        "-> R=2\r\n",
        "$\r\n",
        "\r\n",
        "б) $\\begin{pmatrix} 0 & 0 & 2 & 1\\\\0 & 0 & 2 & 2\r\n",
        "\\\\0 & 0 & 4 & 3\\\\2 & 3 & 5 & 6\\end{pmatrix}\r\n",
        "-> \\begin{pmatrix} 0 & 2 & 1\\\\0 & 2 & 2\\\\0 & 4 & 3\\\\3 & 5 & 6\\end{pmatrix}\r\n",
        "-> \\begin{pmatrix} 0 & 1 & 1\\\\0 & 0 & 2\\\\0 & 1 & 3\\\\3 & -1 & 6\\end{pmatrix}\r\n",
        "-> \\begin{pmatrix} 0 & 1 & 1\\\\0 & 0 & 2\\\\0 & 1 & 3\\\\3 & 0 & 9\\end{pmatrix}\r\n",
        "-> \\begin{pmatrix} 0 & 1 & 1\\\\0 & 0 & 2\\\\0 & 1 & 3\\\\3 & 0 & 0\\end{pmatrix}\r\n",
        "-> \\begin{pmatrix} 0 & 1 & -2\\\\0 & 0 & 2\\\\0 & 1 & 0\\\\3 & 0 & 0\\end{pmatrix}\r\n",
        "-> \\begin{pmatrix} 0 & 1 & 0\\\\0 & 0 & 2\\\\0 & 1 & 0\\\\3 & 0 & 0\\end{pmatrix}\r\n",
        "-> \\begin{pmatrix} 0 & 0 & 2\\\\0 & 1 & 0\\\\3 & 0 & 0\\end{pmatrix}\r\n",
        "-> R=3\r\n",
        "$"
      ]
    },
    {
      "cell_type": "code",
      "metadata": {
        "colab": {
          "base_uri": "https://localhost:8080/"
        },
        "id": "mqQq_lLTYdd2",
        "outputId": "b1256535-c50d-4af5-a842-10b9bfacbd9c"
      },
      "source": [
        "#Проверка\r\n",
        "\r\n",
        "A = np.array([[1, 2, 3], [1, 1, 1], [2, 3, 4]])\r\n",
        "B = np.array([[0, 0, 2, 1], [0, 0, 2, 2], [0, 0, 4, 3], [2, 3, 5, 6]])\r\n",
        "\r\n",
        "print(f'Матрица A:\\n{A}')\r\n",
        "print(f'Ранг матрицы A = {np.linalg.matrix_rank(A)}')\r\n",
        "print(f'Матрица B:\\n{B}')\r\n",
        "print(f'Ранг матрицы B = {np.linalg.matrix_rank(B)}')"
      ],
      "execution_count": null,
      "outputs": [
        {
          "output_type": "stream",
          "text": [
            "Матрица A:\n",
            "[[1 2 3]\n",
            " [1 1 1]\n",
            " [2 3 4]]\n",
            "Ранг матрицы A = 2\n",
            "Матрица B:\n",
            "[[0 0 2 1]\n",
            " [0 0 2 2]\n",
            " [0 0 4 3]\n",
            " [2 3 5 6]]\n",
            "Ранг матрицы B = 3\n"
          ],
          "name": "stdout"
        }
      ]
    }
  ]
}