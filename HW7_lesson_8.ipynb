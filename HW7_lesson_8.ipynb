{
  "nbformat": 4,
  "nbformat_minor": 0,
  "metadata": {
    "colab": {
      "name": "HW7_lesson_8.ipynb",
      "provenance": [],
      "collapsed_sections": [],
      "include_colab_link": true
    },
    "kernelspec": {
      "name": "python3",
      "display_name": "Python 3"
    }
  },
  "cells": [
    {
      "cell_type": "markdown",
      "metadata": {
        "id": "view-in-github",
        "colab_type": "text"
      },
      "source": [
        "<a href=\"https://colab.research.google.com/github/KirPim/DS_school_2020_home_work/blob/main/HW7_lesson_8.ipynb\" target=\"_parent\"><img src=\"https://colab.research.google.com/assets/colab-badge.svg\" alt=\"Open In Colab\"/></a>"
      ]
    },
    {
      "cell_type": "markdown",
      "metadata": {
        "id": "EXNSbmw6XLxd"
      },
      "source": [
        "# Домашнее задание к 8 уроку\n",
        "\n",
        "**Дедлайн: 26.12.2020**"
      ]
    },
    {
      "cell_type": "markdown",
      "metadata": {
        "id": "W_0KSzEQYPKp"
      },
      "source": [
        "HW in colab: https://colab.research.google.com/drive/1RKW91O1ZpMuu63th7P_hj9qOsaaD3qP1?usp=sharing"
      ]
    },
    {
      "cell_type": "markdown",
      "metadata": {
        "id": "1kAn7WV4XOMZ"
      },
      "source": [
        "**ФОРМАТ ОТЧЕТНОСТИ:** pdf-файл с решенными задачами или же ноутбук с решенными задачи на языке Markdown."
      ]
    },
    {
      "cell_type": "markdown",
      "metadata": {
        "id": "PllPM_9rLzSh"
      },
      "source": [
        "# Часть 1. СЛАУ"
      ]
    },
    {
      "cell_type": "markdown",
      "metadata": {
        "id": "GSL00ab2HVDc"
      },
      "source": [
        "__1.__ Решить систему уравнений методом Гаусса:\n",
        "\n",
        "$$\\begin{cases}\n",
        "x_{1}+x_{2}-x_{3}-2x_{4}=0, \\\\\n",
        "2x_{1}+x_{2}-x_{3}+x_{4}=-2, \\\\\n",
        "x_{1}+x_{2}-3x_{3}+x_{4}=4.\n",
        "\\end{cases}$$\n",
        "\n",
        "__2.__ Проверить на совместность и выяснить, сколько решений будет иметь система линейных уравнений:\n",
        "\n",
        "   а) $\\begin{cases}\n",
        "3x_{1}-x_{2}+x_{3}=4, \\\\\n",
        "2x_{1}-5x_{2}-3x_{3}=-17, \\\\\n",
        "x_{1}+x_{2}-x_{3}=0;\n",
        "\\end{cases}$\n",
        "    \n",
        "   б) $\\begin{cases}\n",
        "2x_{1}-4x_{2}+6x_{3}=1, \\\\\n",
        "x_{1}-2x_{2}+3x_{3}=-2, \\\\\n",
        "3x_{1}-6x_{2}+9x_{3}=5;\n",
        "\\end{cases}$\n",
        "    \n",
        "   в) $\\begin{cases}\n",
        "x_{1}+2x_{2}+5x_{3}=4, \\\\\n",
        "3x_{1}+x_{2}-8x_{3}=-2. \n",
        "\\end{cases}$"
      ]
    },
    {
      "cell_type": "markdown",
      "metadata": {
        "id": "--6Dfinu7NFL"
      },
      "source": [
        "# Решение"
      ]
    },
    {
      "cell_type": "markdown",
      "metadata": {
        "id": "ZhOhbWhk7T2j"
      },
      "source": [
        "__1)__$\\begin{cases}\r\n",
        "x_{1}+x_{2}-x_{3}-2x_{4}=0, \\\\\r\n",
        "2x_{1}+x_{2}-x_{3}+x_{4}=-2, \\\\\r\n",
        "x_{1}+x_{2}-3x_{3}+x_{4}=4.\r\n",
        "\\end{cases}\r\n",
        "$\r\n",
        "\r\n",
        "$\r\n",
        "\\begin{pmatrix}\r\n",
        "\\left.\\begin{matrix}1 & 1 & -1 & -2\\\\2 & 1 & -1 & 1\\\\1 & 1 & -3 & 1\\end{matrix}\r\n",
        "\\right|\r\n",
        "\\begin{matrix}0\\\\-2\\\\4\\end{matrix}\\end{pmatrix}\r\n",
        "->\r\n",
        "\\begin{pmatrix}\r\n",
        "\\left.\\begin{matrix}1 & 1 & -1 & -2\\\\0 & -1 & 5 & -1\\\\1 & 1 & -3 & 1\\end{matrix}\r\n",
        "\\right|\r\n",
        "\\begin{matrix}0\\\\-10\\\\4\\end{matrix}\\end{pmatrix}\r\n",
        "->\r\n",
        "\\begin{pmatrix}\r\n",
        "\\left.\\begin{matrix}1 & 1 & -1 & -2\\\\0 & 1 & -5 & 1\\\\0 & 0 & -2 & 3\\end{matrix}\r\n",
        "\\right|\r\n",
        "\\begin{matrix}0\\\\10\\\\4\\end{matrix}\\end{pmatrix}\r\n",
        "->\r\n",
        "\\begin{pmatrix}\r\n",
        "\\left.\\begin{matrix}1 & 1 & -1 & -2\\\\0 & 1 & -5 & 1\\\\0 & 0 & 1 & -3/2\\end{matrix}\r\n",
        "\\right|\r\n",
        "\\begin{matrix}0\\\\10\\\\-2\\end{matrix}\\end{pmatrix}\r\n",
        " $\r\n",
        "$x_{4}= c$\r\n",
        "\r\n",
        "$\r\n",
        "\\begin{cases}\r\n",
        "x_{1}+x_{2}-x_{3}-2c=0\\\\\r\n",
        "x_{2}-5x_{3}+c=10\\\\\r\n",
        "x_{3}-3c/2=-2\r\n",
        "\\end{cases}\r\n",
        "->\r\n",
        "\\begin{cases}\r\n",
        "x_{3}=-2+3c/2\\\\\r\n",
        "x_{2}+10-15c/2+c=10\\\\\r\n",
        "x_{1}+15c/2-c+2-3c/2-2c=0\r\n",
        "\\end{cases}\r\n",
        "->\r\n",
        "\\begin{cases}\r\n",
        "x_{3}=-2+3c/2\\\\\r\n",
        "x_{2}=13c/2\\\\\r\n",
        "x_{1}=-2-3c\r\n",
        "\\end{cases}\r\n",
        "$\r\n"
      ]
    },
    {
      "cell_type": "markdown",
      "metadata": {
        "id": "hFgzlvNHG4iC"
      },
      "source": [
        "__2)__\r\n",
        "\r\n",
        "а) $\\begin{cases}\r\n",
        "3x_{1}-x_{2}+x_{3}=4, \\\\\r\n",
        "2x_{1}-5x_{2}-3x_{3}=-17, \\\\\r\n",
        "x_{1}+x_{2}-x_{3}=0;\r\n",
        "\\end{cases}$\r\n",
        "\r\n",
        "$\r\n",
        "\\begin{pmatrix}\r\n",
        "\\left.\\begin{matrix}3 & -1 & 1\\\\2 & -5 & -3\\\\1 & 1 & -1\\end{matrix}\r\n",
        "\\right|\r\n",
        "\\begin{matrix}4\\\\-17\\\\0\\end{matrix}\r\n",
        "\\end{pmatrix}\r\n",
        "->\r\n",
        "\\begin{pmatrix}\r\n",
        "\\left.\\begin{matrix}3 & -1 & 1\\\\2 & -5 & -3\\\\4 & 0 & 0\\end{matrix}\r\n",
        "\\right|\r\n",
        "\\begin{matrix}4\\\\-17\\\\4\\end{matrix}\r\n",
        "\\end{pmatrix}\r\n",
        "->\r\n",
        "\\begin{pmatrix}\r\n",
        "\\left.\\begin{matrix}3 & -1 & 1\\\\0 & -5 & -3\\\\1 & 0 & 0\\end{matrix}\r\n",
        "\\right|\r\n",
        "\\begin{matrix}4\\\\-19\\\\1\\end{matrix}\r\n",
        "\\end{pmatrix}\r\n",
        "->\r\n",
        "\\begin{pmatrix}\r\n",
        "\\left.\\begin{matrix}3 & -1 & 1\\\\0 & 1 & 3/5\\\\1 & 0 & 0\\end{matrix}\r\n",
        "\\right|\r\n",
        "\\begin{matrix}4\\\\19/5\\\\1\\end{matrix}\r\n",
        "\\end{pmatrix}\r\n",
        "->\r\n",
        "\\begin{pmatrix}\r\n",
        "\\left.\\begin{matrix}3 & 0 & 13/5\\\\0 & 1 & 3/5\\\\1 & 0 & 0\\end{matrix}\r\n",
        "\\right|\r\n",
        "\\begin{matrix}39/5\\\\19/5\\\\1\\end{matrix}\r\n",
        "\\end{pmatrix}\r\n",
        "->\r\n",
        "\\begin{pmatrix}\r\n",
        "\\left.\\begin{matrix}0 & 0 & 13/5\\\\0 & 1 & 3/5\\\\1 & 0 & 0\\end{matrix}\r\n",
        "\\right|\r\n",
        "\\begin{matrix}24/5\\\\19/5\\\\1\\end{matrix}\r\n",
        "\\end{pmatrix}\r\n",
        "->\r\n",
        "\\begin{pmatrix}\r\n",
        "\\left.\\begin{matrix}0 & 0 & 1\\\\0 & 1 & 3/5\\\\1 & 0 & 0\\end{matrix}\r\n",
        "\\right|\r\n",
        "\\begin{matrix}24/13\\\\19/5\\\\1\\end{matrix}\r\n",
        "\\end{pmatrix}\r\n",
        " ->\r\n",
        " rank A=rank \\tilde A = 3\r\n",
        " => $ система совместна, имеет 1 решение"
      ]
    },
    {
      "cell_type": "markdown",
      "metadata": {
        "id": "vtMRMstsLFyn"
      },
      "source": [
        "б) $\\begin{cases}\r\n",
        "2x_{1}-4x_{2}+6x_{3}=1, \\\\\r\n",
        "x_{1}-2x_{2}+3x_{3}=-2, \\\\\r\n",
        "3x_{1}-6x_{2}+9x_{3}=5;\r\n",
        "\\end{cases}$\r\n",
        "\r\n",
        "$\r\n",
        "\\begin{pmatrix}\r\n",
        "\\left.\\begin{matrix}2 & -4 & 6\\\\1 & -2 & 3\\\\3 & -6 & 9\\end{matrix}\r\n",
        "\\right|\r\n",
        "\\begin{matrix}1\\\\-2\\\\5\\end{matrix}\r\n",
        "\\end{pmatrix}\r\n",
        "->\r\n",
        "\\begin{pmatrix}\r\n",
        "\\left.\\begin{matrix}0 & 0 & 0\\\\1 & -2 & 3\\\\0 & 0 & 0\\end{matrix}\r\n",
        "\\right|\r\n",
        "\\begin{matrix}5\\\\-2\\\\11\\end{matrix}\r\n",
        "\\end{pmatrix}\r\n",
        " ->\r\n",
        " rank A<rank \\tilde A\r\n",
        " => $ система несовместна"
      ]
    },
    {
      "cell_type": "markdown",
      "metadata": {
        "id": "9rsF0t66MVmY"
      },
      "source": [
        "в) $\\begin{cases}\r\n",
        "x_{1}+2x_{2}+5x_{3}=4, \\\\\r\n",
        "3x_{1}+x_{2}-8x_{3}=-2. \r\n",
        "\\end{cases}$\r\n",
        "\r\n",
        "$\r\n",
        "\\begin{pmatrix}\r\n",
        "\\left.\\begin{matrix}1 & 2 & 5\\\\3 & 1 & -8\\end{matrix}\r\n",
        "\\right|\r\n",
        "\\begin{matrix}4\\\\-2\\end{matrix}\r\n",
        "\\end{pmatrix}\r\n",
        "->\r\n",
        "\\begin{pmatrix}\r\n",
        "\\left.\\begin{matrix}1 & 2 & 5\\\\0 & -5 & -23\\end{matrix}\r\n",
        "\\right|\r\n",
        "\\begin{matrix}4\\\\-14\\end{matrix}\r\n",
        "\\end{pmatrix}\r\n",
        "->\r\n",
        "\\begin{pmatrix}\r\n",
        "\\left.\\begin{matrix}1 & 2 & 5\\\\0 & 1 & 23/5\\end{matrix}\r\n",
        "\\right|\r\n",
        "\\begin{matrix}4\\\\14/5\\end{matrix}\r\n",
        "\\end{pmatrix}\r\n",
        " ->\r\n",
        " rank A=rank \\tilde A < 3\r\n",
        " => $ система совместна, имеет бесконечное множество решений"
      ]
    },
    {
      "cell_type": "markdown",
      "metadata": {
        "id": "-_6uWPJtMRum"
      },
      "source": [
        ""
      ]
    },
    {
      "cell_type": "markdown",
      "metadata": {
        "id": "Rz4wETGpLCMQ"
      },
      "source": [
        ""
      ]
    },
    {
      "cell_type": "markdown",
      "metadata": {
        "id": "GABKcHcfL3sC"
      },
      "source": [
        "# Часть 2. Дифференцируемость функций"
      ]
    },
    {
      "cell_type": "markdown",
      "metadata": {
        "id": "d8AAGigdHVGZ"
      },
      "source": [
        "Прочитайте краткую статью-обзор про **функции активации** в нейронных сетях. Дальше в курсе мы еще с Вами об этом поговорим, а сейчас достаточно знать какие функции активации нейронов существуют и определять дифференцируемы они или нет.\n",
        "\n",
        "Прочитайте следющие статьи:\n",
        "- https://www.machinelearningmastery.ru/complete-guide-of-activation-functions-34076e95d044/\n",
        "- https://missinglink.ai/guides/neural-network-concepts/7-types-neural-network-activation-functions-right/\n",
        "\n",
        "и выполните следующие задачи:"
      ]
    },
    {
      "cell_type": "markdown",
      "metadata": {
        "id": "yuSNlofZXAL3"
      },
      "source": [
        "## Задания"
      ]
    },
    {
      "cell_type": "markdown",
      "metadata": {
        "id": "g17tNv9WLx0n"
      },
      "source": [
        "**1.** Для чего необходимо определять дифференцируемость/недефференцируемость функций активации в сетях?"
      ]
    },
    {
      "cell_type": "markdown",
      "metadata": {
        "id": "BQ1UHDgOYat6"
      },
      "source": [
        "## Решение: \r\n",
        "\r\n",
        "Дифференцируемость/недифференцированность функций активации в нейронных сетях необходимо определять, чтобы убедиться в том, что функция активации является непрерывной на любом из отрезков. Функция должна быть без разрывов и монотонная, чтобы иметь возможность плавно менять состояние нейронов при незначительном изменении веоов. Кроме того, если функция не будет дифференцируема, то будет невозможным применение метода градиентного спуска, с помощью которого обучаются нейронные сети."
      ]
    },
    {
      "cell_type": "markdown",
      "metadata": {
        "id": "OxYiiJhGMErP"
      },
      "source": [
        "**2.** Даны 1-6. Вычислите следующие характеристики:\n",
        "\n",
        "- производную функции\n",
        "- область значений\n",
        "- монотонность (монотонная или нет)\n",
        "\n",
        "1. **Identity.** $f(x)=x$\n",
        "2. **Binary step/Единичная ступенька**. $f(x)=\\left\\{\\begin{array}{ll}0 & x<0 \\\\ 1 & x \\geqslant 0\\end{array}\\right.$\n",
        "3. **Hyperbolic tangent/Гиперболический тангенс**. $f(x)=\\operatorname{th}(x)=\\frac{\\left(e^{x}-e^{-x}\\right)}{\\left(e^{x}+e^{-x}\\right)}$\n",
        "4. **ReLU**. $f(x)=\\left\\{\\begin{array}{ll}0 & x<0 \\\\ x & x \\geqslant 0\\end{array}\\right.$\n",
        "5. **Softplus**. $f(x)=\\ln \\left(1+e^{x}\\right)$\n",
        "6. **Синусоида**. $f(x)=\\sin (x)$\n",
        "\n",
        "Если функция дифференцируема на интервале  (a,b) и принадлежит к одному из четырехтипов (т.е. является возрастающей, строго возрастающей, убывающей или строго убывающей), то такая функция называется **монотонной** на данном интервале. \n",
        "<img src=\"https://github.com/ddvika/Data-Science-School-2020/blob/main/lecture_8/imgs/graphs.png?raw=true\" height=400 />"
      ]
    },
    {
      "cell_type": "markdown",
      "metadata": {
        "id": "fKHN1URvMcdb"
      },
      "source": [
        "Пример:\n",
        "\n",
        " **0**. Дана функция **Softsign:** $f(x)=\\frac{x}{1+|x|}$\n",
        "\n",
        " 1. Производная функции:\n",
        " $f'(x)=(\\frac{x}{1+|x|})' $\n",
        "\n",
        "- Воспользуемся правилом нахождения производной от частного: \n",
        "\n",
        "\n",
        "$$\\frac{d}{d x}\\left(\\frac{u}{v}\\right)=\\frac{v \\frac{d u}{d x}-u \\frac{d v}{d x}}{v^{2}}$$\n",
        "Где $u = x$ и $ v = |x| + 1$.\n",
        "\n",
        "Следовательно, в нашем случае имеем:\n",
        "\n",
        "$\\frac{d}{d x}\\left(\\frac{x}{1+|x|}\\right)= \\frac{(1+|x|)\\left(\\frac{d}{d x}(x)\\right)-x\\left(\\frac{d}{d x}(1+|x|)\\right)}{(1+|x|)^{2}}= \\frac{1+|x|-x\\left(\\frac{d}{d x}(1+|x|)\\right)}{(1+|x|)^{2}}=\\frac{1+|x|-x\\left(\\frac{d}{d x}(|x|)+0\\right)}{(1+|x|)^{2}} = $\n",
        "\n",
        "- Запишем $\\frac{d}{d x}(|x|)$ след. образом  $\\frac{d}{d x}(|x|)=\\frac{d|u|}{d u} \\frac{d u}{d x}$, где $u=x$, $\\frac{d}{d u}(|u|)=\\frac{u}{|u|}$\n",
        "\n",
        "$= \\frac{1+|x|-\\frac{x\\left(\\frac{d}{d x}(x)\\right)}{|x|}}{(1+|x|)^{2}}= \\frac{1+|x|-\\frac{x^{2}\\left(\\frac{d}{d x}(x)\\right)}{|x|}}{(1+|x|)^{2}}= \\frac{1+|x|-1 \\mid \\frac{x^{2}}{|x|}}{(1+|x|)^{2}}= \\frac{1}{(1+|x|)^{2}}$\n",
        "\n",
        "$$f'(x) = \\frac{1}{(1+|x|)^{2}}$$\n",
        "\n",
        "**P.S.** Находить производную можно менее подробно!\n",
        "\n",
        "2. Область значений функции:\n",
        "\n",
        "Знаменатель функции не должен быть равен 0:\n",
        "\n",
        "$|x|+1 \\neq 0 \\rightarrow x \\in R$, то есть область значений - множество всех действительных чисел. \n",
        "\n",
        "Теперь найдем множество значений:\n",
        "\n",
        "Пусть $$\\frac{x}{1+|x|} = a$$\n",
        "Решая уравнение $ \\frac{x}{1+|x|}- a =0 $, получим $E = (-1,1)$\n",
        "\n",
        "\n",
        "\n",
        "$$E = (-1,1)$$\n",
        "\n",
        "3. Определим моннотонна ли функция\n",
        "\n",
        "- построим график функции"
      ]
    },
    {
      "cell_type": "code",
      "metadata": {
        "colab": {
          "base_uri": "https://localhost:8080/",
          "height": 295
        },
        "id": "3gBae6jJUUJ3",
        "outputId": "2bc319df-2f0a-400c-f7b4-add4137b9991"
      },
      "source": [
        "import numpy as np\n",
        "import matplotlib.pyplot as plt\n",
        "\n",
        "def f(x):\n",
        "    return x/(1+abs(x))\n",
        "\n",
        "a = np.arange(-100, 100)\n",
        "plt.plot(a, f(a))\n",
        "plt.title('Softsign')\n",
        "plt.xlabel('x')\n",
        "plt.ylabel('f(x)')\n",
        "plt.show()"
      ],
      "execution_count": 1,
      "outputs": [
        {
          "output_type": "display_data",
          "data": {
            "image/png": "[encoded data removed]",
            "text/plain": [
              "<Figure size 432x288 with 1 Axes>"
            ]
          },
          "metadata": {
            "tags": [],
            "needs_background": "light"
          }
        }
      ]
    },
    {
      "cell_type": "markdown",
      "metadata": {
        "id": "lZz_LHD1U7u_"
      },
      "source": [
        "**Ответ: функция монотонна**"
      ]
    },
    {
      "cell_type": "markdown",
      "metadata": {
        "id": "o060JYePVAIU"
      },
      "source": [
        "# Ваше решение тут"
      ]
    },
    {
      "cell_type": "markdown",
      "metadata": {
        "id": "2rX5sIMBXtja"
      },
      "source": [
        "\n",
        "**P.S.** Находить производну можно менее подробно чем в примере! но нахождение каждого пункта решения и отрисовка графиков обязательна (С названием графика и подписью осей как в примере!)."
      ]
    },
    {
      "cell_type": "markdown",
      "metadata": {
        "id": "i9NceMhIa11n"
      },
      "source": [
        "__1)__ **Identity.** $f(x)=x$\r\n",
        "\r\n",
        "1. $f'(x)=1$\r\n",
        "2. $x \\in R, f(x) \\in R$"
      ]
    },
    {
      "cell_type": "code",
      "metadata": {
        "id": "IDs8FAL0Lpm_",
        "colab": {
          "base_uri": "https://localhost:8080/",
          "height": 295
        },
        "outputId": "9ab86a31-7ded-4fc7-ee52-f9d3eb4925b2"
      },
      "source": [
        "def f1(x):\r\n",
        "    return x\r\n",
        "\r\n",
        "a = np.arange(-100, 100)\r\n",
        "plt.plot(a, f1(a))\r\n",
        "plt.title('Identity')\r\n",
        "plt.xlabel('x')\r\n",
        "plt.ylabel('f1(x)')\r\n",
        "plt.show()"
      ],
      "execution_count": 5,
      "outputs": [
        {
          "output_type": "display_data",
          "data": {
            "image/png": "[encoded data removed]",
            "text/plain": [
              "<Figure size 432x288 with 1 Axes>"
            ]
          },
          "metadata": {
            "tags": [],
            "needs_background": "light"
          }
        }
      ]
    },
    {
      "cell_type": "markdown",
      "metadata": {
        "id": "DhMeGMjJcVz_"
      },
      "source": [
        "**Ответ: функция монотонна**"
      ]
    },
    {
      "cell_type": "markdown",
      "metadata": {
        "id": "M1BH3B2ecXSz"
      },
      "source": [
        "__2)__ **Binary step/Единичная ступенька**. $f(x)=\\left\\{\\begin{array}{ll}0 & x<0 \\\\ 1 & x \\geqslant 0\\end{array}\\right.$\r\n",
        "\r\n",
        "1. $f'(x)=0$\r\n",
        "2. $x \\in R, f(x)=\\left\\{\\begin{array}{ll}0 & x<0 \\\\ 1 & x \\geqslant 0\\end{array}\\right.$"
      ]
    },
    {
      "cell_type": "code",
      "metadata": {
        "colab": {
          "base_uri": "https://localhost:8080/",
          "height": 295
        },
        "id": "lAI0JwlMdVEN",
        "outputId": "8ca14ffb-e62e-42b5-9330-01262108088f"
      },
      "source": [
        "def f2(x):  \r\n",
        "  if x < 0:\r\n",
        "    return 0\r\n",
        "  else:\r\n",
        "    return 1\r\n",
        "# почему-то не хочет строить график прямой константы\r\n",
        "a = np.arange(-100, 100)\r\n",
        "plt.plot(a.all(), f2(a.all()))\r\n",
        "plt.title('Binary step')\r\n",
        "plt.xlabel('x')\r\n",
        "plt.ylabel('f2(x)')\r\n",
        "plt.show()"
      ],
      "execution_count": 36,
      "outputs": [
        {
          "output_type": "display_data",
          "data": {
            "image/png": "[encoded data removed]",
            "text/plain": [
              "<Figure size 432x288 with 1 Axes>"
            ]
          },
          "metadata": {
            "tags": [],
            "needs_background": "light"
          }
        }
      ]
    },
    {
      "cell_type": "markdown",
      "metadata": {
        "id": "71WawlnZhZHK"
      },
      "source": [
        "**Ответ: функция не монотонна, имеет разрыв для x=0**"
      ]
    },
    {
      "cell_type": "markdown",
      "metadata": {
        "id": "ienIgf0yhxe2"
      },
      "source": [
        "__3)__ **Hyperbolic tangent/Гиперболический тангенс**. $f(x)=\\operatorname{th}(x)=\\frac{\\left(e^{x}-e^{-x}\\right)}{\\left(e^{x}+e^{-x}\\right)}$\r\n",
        "\r\n",
        "1. $f'(x)=\\frac{\\left(e^{x}+e^{-x}\\right)\\cdot \\left(e^{x}+e^{-x}\\right)-\r\n",
        "\\left(e^{x}-e^{-x}\\right)\\cdot \\left(e^{x}-e^{-x}\\right)\r\n",
        "}\r\n",
        "{\\left(e^{x}+e^{-x}\\right)^{2}}\r\n",
        "=\r\n",
        "\\frac{\\left(e^{x}+e^{-x}\\right)^{2}-\r\n",
        "\\left(e^{x}-e^{-x}\\right)^{2}\r\n",
        "}\r\n",
        "{\\left(e^{x}+e^{-x}\\right)^{2}}\r\n",
        "=\r\n",
        "\\frac{2e^{-x}\\cdot 2e^{x}\r\n",
        "}\r\n",
        "{\\left(e^{x}+e^{-x}\\right)^{2}}\r\n",
        "=\r\n",
        "\\frac{4}\r\n",
        "{\\left(e^{x}+e^{-x}\\right)^{2}}\r\n",
        "$\r\n",
        "2. $x \\in R, f(x) \\in (-1, 1)$"
      ]
    },
    {
      "cell_type": "code",
      "metadata": {
        "colab": {
          "base_uri": "https://localhost:8080/",
          "height": 295
        },
        "id": "FJxR6RPVlnQ-",
        "outputId": "a8883b51-4293-427a-d67f-fd22e1e9f63e"
      },
      "source": [
        "def f3(x):\r\n",
        "  return (np.exp(x) - np.exp(-x)) / (np.exp(x) + np.exp(-x))\r\n",
        "\r\n",
        "a = np.arange(-10, 10)\r\n",
        "plt.plot(a, f3(a))\r\n",
        "plt.title('Hyperbolic tangent')\r\n",
        "plt.xlabel('x')\r\n",
        "plt.ylabel('f3(x)')\r\n",
        "plt.show()"
      ],
      "execution_count": 47,
      "outputs": [
        {
          "output_type": "display_data",
          "data": {
            "image/png": "[encoded data removed]",
            "text/plain": [
              "<Figure size 432x288 with 1 Axes>"
            ]
          },
          "metadata": {
            "tags": [],
            "needs_background": "light"
          }
        }
      ]
    },
    {
      "cell_type": "markdown",
      "metadata": {
        "id": "75cLfR9wnfU3"
      },
      "source": [
        "**Ответ: функция монотонна**"
      ]
    },
    {
      "cell_type": "markdown",
      "metadata": {
        "id": "Yydi3OZZnvKd"
      },
      "source": [
        "__4)__ **ReLU**. $f(x)=\\left\\{\\begin{array}{ll}0 & x<0 \\\\ x & x \\geqslant 0\\end{array}\\right.$\r\n",
        "\r\n",
        "1. $f'(x)=\\left\\{\\begin{array}{ll}0 & x<0 \\\\ 1 & x \\geqslant 0\\end{array}\\right.\r\n",
        "$\r\n",
        "2. $x \\in R, f(x) \\geqslant 0$"
      ]
    },
    {
      "cell_type": "code",
      "metadata": {
        "id": "bfQ0e7GGoUHI"
      },
      "source": [
        "def f4(x):\r\n",
        "  if x < 0:\r\n",
        "    return 0\r\n",
        "  else:\r\n",
        "    return x\r\n",
        "\r\n",
        "# почему-то не хочет строить график прямой константы\r\n",
        "a = np.arange(-10, 10)\r\n",
        "plt.plot(a, f4(a))\r\n",
        "plt.title('ReLU')\r\n",
        "plt.xlabel('x')\r\n",
        "plt.ylabel('f4(x)')\r\n",
        "plt.show()"
      ],
      "execution_count": null,
      "outputs": []
    },
    {
      "cell_type": "markdown",
      "metadata": {
        "id": "dyZch1L2qSBp"
      },
      "source": [
        "**Ответ: функция монотонна**"
      ]
    },
    {
      "cell_type": "markdown",
      "metadata": {
        "id": "K2XEX4KWqWfC"
      },
      "source": [
        "__5)__ **Softplus**. $f(x)=\\ln \\left(1+e^{x}\\right)$\r\n",
        "\r\n",
        "1. $f'(x)=\\frac{e^{x}}{1+e^{x}}\r\n",
        "$\r\n",
        "2. $x \\in R, f(x) > 0$"
      ]
    },
    {
      "cell_type": "code",
      "metadata": {
        "colab": {
          "base_uri": "https://localhost:8080/",
          "height": 295
        },
        "id": "8MbzayPxrEHU",
        "outputId": "69e7dad7-eb93-4981-f753-245d5fefb28d"
      },
      "source": [
        "def f5(x):\r\n",
        "  return np.log(1 + np.exp(x))\r\n",
        "\r\n",
        "a = np.arange(-10, 10)\r\n",
        "plt.plot(a, f5(a))\r\n",
        "plt.title('Softplus')\r\n",
        "plt.xlabel('x')\r\n",
        "plt.ylabel('f5(x)')\r\n",
        "plt.show()"
      ],
      "execution_count": 67,
      "outputs": [
        {
          "output_type": "display_data",
          "data": {
            "image/png": "[encoded data removed]",
            "text/plain": [
              "<Figure size 432x288 with 1 Axes>"
            ]
          },
          "metadata": {
            "tags": [],
            "needs_background": "light"
          }
        }
      ]
    },
    {
      "cell_type": "markdown",
      "metadata": {
        "id": "TWkXHkUTsZ9W"
      },
      "source": [
        "**Ответ: функция монотонна**"
      ]
    },
    {
      "cell_type": "markdown",
      "metadata": {
        "id": "e84DqfwWsjgI"
      },
      "source": [
        "__6)__ **Синусоида**. $f(x)=\\sin (x)$\r\n",
        "\r\n",
        "1. $f'(x)=cos(x)\r\n",
        "$\r\n",
        "2. $x \\in R, f(x) \\in [-1, 1]$"
      ]
    },
    {
      "cell_type": "code",
      "metadata": {
        "colab": {
          "base_uri": "https://localhost:8080/",
          "height": 295
        },
        "id": "2yzRN4G0s89I",
        "outputId": "9c58db03-8fee-4417-c66a-ca39dd40a9d3"
      },
      "source": [
        "def f6(x):\r\n",
        "  return np.sin(x)\r\n",
        "\r\n",
        "a = np.linspace(-10, 10)\r\n",
        "plt.plot(a, f6(a))\r\n",
        "plt.title('Синусоида')\r\n",
        "plt.xlabel('x')\r\n",
        "plt.ylabel('f6(x)')\r\n",
        "plt.show()"
      ],
      "execution_count": 69,
      "outputs": [
        {
          "output_type": "display_data",
          "data": {
            "image/png": "[encoded data removed]",
            "text/plain": [
              "<Figure size 432x288 with 1 Axes>"
            ]
          },
          "metadata": {
            "tags": [],
            "needs_background": "light"
          }
        }
      ]
    },
    {
      "cell_type": "markdown",
      "metadata": {
        "id": "pNkNQIMit-1g"
      },
      "source": [
        "**Ответ: функция монотонно возрастает* на отрезках $x\\in [0, \\pi/2+2\\pi k]\\cup [3\\pi/2+2\\pi k, 2\\pi + 2\\pi k]$; монотонно убыввет на отрезках $x\\in [\\pi/2+ 2\\pi k, 3\\pi/2+2\\pi k], k \\in 0,N$**"
      ]
    }
  ]
}