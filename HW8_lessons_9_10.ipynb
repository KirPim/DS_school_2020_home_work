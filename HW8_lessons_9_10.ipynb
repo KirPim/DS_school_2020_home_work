{
  "nbformat": 4,
  "nbformat_minor": 0,
  "metadata": {
    "colab": {
      "name": "HW8_lessons_9-10.ipynb",
      "provenance": [],
      "collapsed_sections": [],
      "include_colab_link": true
    },
    "kernelspec": {
      "name": "python3",
      "display_name": "Python 3"
    }
  },
  "cells": [
    {
      "cell_type": "markdown",
      "metadata": {
        "id": "view-in-github",
        "colab_type": "text"
      },
      "source": [
        "<a href=\"https://colab.research.google.com/github/KirPim/DS_school_2020_home_work/blob/main/HW8_lessons_9_10.ipynb\" target=\"_parent\"><img src=\"https://colab.research.google.com/assets/colab-badge.svg\" alt=\"Open In Colab\"/></a>"
      ]
    },
    {
      "cell_type": "markdown",
      "metadata": {
        "id": "SgxdX4L0dSw7"
      },
      "source": [
        "# Домашнее задание"
      ]
    },
    {
      "cell_type": "markdown",
      "metadata": {
        "id": "piodEhR7orUF"
      },
      "source": [
        "Ноутбук в колаб: https://colab.research.google.com/drive/1d-vvpJW8IWSPeodFnfaEVaZIQrys8uU0?usp=sharing"
      ]
    },
    {
      "cell_type": "markdown",
      "metadata": {
        "id": "r3_T-pcpnme8"
      },
      "source": [
        "**Дедлайн: 01.01.2021, 23:59**\n"
      ]
    },
    {
      "cell_type": "markdown",
      "metadata": {
        "id": "B2RmFtRDn5vy"
      },
      "source": [
        "Формат отчетности - jupyter notebook. Однако вычислять производные не обязательно в Markdown. Если вычисляете вручную, то дополнительно с ноутбуком, отправляйте pdf-файл с расписанным решением."
      ]
    },
    {
      "cell_type": "markdown",
      "metadata": {
        "id": "aCDx6dKzeEhp"
      },
      "source": [
        "### Пример реализации градиентного спуска: https://github.com/ddvika/Data-Science-School-2020/blob/main/lecture_9/gradient_methods.ipynb"
      ]
    },
    {
      "cell_type": "markdown",
      "metadata": {
        "id": "t-G1btbwoStu"
      },
      "source": [
        "# Задания"
      ]
    },
    {
      "cell_type": "markdown",
      "metadata": {
        "id": "B1XambpmoeIj"
      },
      "source": [
        "Перед выполнением ДЗ посмотрите на ноутбук, прикрепленный по ссылке выше. Там вы найдете реализацию градиентного спуска с постоянным и дробным шагом."
      ]
    },
    {
      "cell_type": "markdown",
      "metadata": {
        "id": "VnSTXgrueAp0"
      },
      "source": [
        "### Задание 1. [1 point]"
      ]
    },
    {
      "cell_type": "markdown",
      "metadata": {
        "id": "-XmQ1AO9f1Qz"
      },
      "source": [
        "Релизуйте градиентный спуск с постоянным шагом и с дробным шагом для функции\n",
        "$$\n",
        "y = x_{1}^{2}+5 x_{2}^{2}\n",
        "$$\n",
        "\n",
        "в произвольно выбранной Вами точке."
      ]
    },
    {
      "cell_type": "markdown",
      "metadata": {
        "id": "XAXdL_PDgYpS"
      },
      "source": [
        "Поэксперементируйте с разными значениями шага (скорости обучения), попробуйте хотя бы по 2-3 разных значения."
      ]
    },
    {
      "cell_type": "code",
      "metadata": {
        "id": "xPnJpGXQbG4o"
      },
      "source": [
        "import numpy as np\r\n",
        "import matplotlib.pyplot as plt\r\n",
        "import seaborn as sns"
      ],
      "execution_count": 309,
      "outputs": []
    },
    {
      "cell_type": "code",
      "metadata": {
        "id": "txuA4hINaaBu"
      },
      "source": [
        "def f(x):\r\n",
        "  return x[0]**2 + 5*x[1]**2\r\n",
        "\r\n",
        "def grad_f(x):\r\n",
        "  return np.array([2*x[0], 10*x[1]]) "
      ],
      "execution_count": 310,
      "outputs": []
    },
    {
      "cell_type": "code",
      "metadata": {
        "id": "lFRVYfoeaHKI"
      },
      "source": [
        "#Градиентный спуск с постоянным шагом\r\n",
        "def grad_descent_const_step(x = np.array([0, 0]), alpha = 0.001, epsilon = 0.05):\r\n",
        "    grad = grad_f(x)\r\n",
        "    n = 0\r\n",
        "    check = 0\r\n",
        "    while (np.linalg.norm(grad) > epsilon) or (check < 3):\r\n",
        "        x = x - alpha*grad\r\n",
        "        grad = grad_f(x)\r\n",
        "        n+=1\r\n",
        "        if (np.linalg.norm(grad) <= epsilon): check +=1\r\n",
        "    print(\"Градиентный спуск с постоянным шагом alpha = {} выполнил {} шагов\".format(alpha, n))\r\n",
        "    print(\"Точка с координатами х1 = {}, x2 = {}\".format(x[0], x[1]))\r\n",
        "    print(\"Значние функции в точке: {}\".format(f(x)))\r\n",
        "    return x"
      ],
      "execution_count": 311,
      "outputs": []
    },
    {
      "cell_type": "code",
      "metadata": {
        "id": "etmh1lwIfuDy"
      },
      "source": [
        "#Градиентный спуск с дробным шагом\r\n",
        "\r\n",
        "def grad_descent_step_splitting(x = np.array([0, 0]), alpha = 1, epsilon = 0.05, ksi = 0.5, lambda_d = 0.35):\r\n",
        "    grad = grad_f(x)\r\n",
        "    n = 0\r\n",
        "    n_alpha = 0\r\n",
        "    alpha_k = alpha\r\n",
        "    x_k0 = x\r\n",
        "    check = 0\r\n",
        "    while np.linalg.norm(grad) > epsilon or check < 3:\r\n",
        "        grad = grad_f(x_k0)\r\n",
        "        x_k1 = x_k0 - alpha_k*grad\r\n",
        "        while f(x_k1) - f(x_k0) > - alpha_k * ksi * (np.linalg.norm(grad)**2):\r\n",
        "            alpha_k *= lambda_d\r\n",
        "            x_k1 = x_k0 - alpha_k*grad\r\n",
        "            n_alpha+=1\r\n",
        "        x_k0 = x_k0 - alpha_k*grad\r\n",
        "        alpha_k = alpha\r\n",
        "        n+=1\r\n",
        "        if (np.linalg.norm(grad) <= epsilon): check +=1\r\n",
        "    x = x_k0\r\n",
        "    print(\"Градиентный спуст с дроблением шага выполнил {} шагов\".format(n))\r\n",
        "    print(\"Заданная alpha = {}\".format(alpha))\r\n",
        "    print(\"Выполнено {} итераций дробления шага\".format(n_alpha))\r\n",
        "    print(\"Точка с координатами х1 = {}, x2 = {}\".format(x[0], x[1]))\r\n",
        "    print(\"Значние функции в точке: {}\".format(f(x)))\r\n",
        "    return x"
      ],
      "execution_count": 312,
      "outputs": []
    },
    {
      "cell_type": "code",
      "metadata": {
        "id": "otCnLZmwdBDu"
      },
      "source": [
        "x0=[1, 2]"
      ],
      "execution_count": 313,
      "outputs": []
    },
    {
      "cell_type": "code",
      "metadata": {
        "colab": {
          "base_uri": "https://localhost:8080/"
        },
        "id": "m5M8mTyGkMSA",
        "outputId": "7962b634-6cdc-42e1-fccf-2dd48811dfd9"
      },
      "source": [
        "alpha1 = 0.01\r\n",
        "alpha2 = 0.01\r\n",
        "\r\n",
        "a = grad_descent_const_step(x = x0, alpha = alpha1)\r\n",
        "print('')\r\n",
        "b = grad_descent_step_splitting(x = x0, alpha = alpha2)"
      ],
      "execution_count": 314,
      "outputs": [
        {
          "output_type": "stream",
          "text": [
            "Градиентный спуск с постоянным шагом alpha = 0.01 выполнил 185 шагов\n",
            "Точка с координатами х1 = 0.02381354235199539, x2 = 6.853213187843448e-09\n",
            "Значние функции в точке: 0.000567084799350513\n",
            "\n",
            "Градиентный спуст с дроблением шага выполнил 186 шагов\n",
            "Заданная alpha = 0.01\n",
            "Выполнено 0 итераций дробления шага\n",
            "Точка с координатами х1 = 0.023337271504955483, x2 = 6.167891869059103e-09\n",
            "Значние функции в точке: 0.0005446282412961973\n"
          ],
          "name": "stdout"
        }
      ]
    },
    {
      "cell_type": "code",
      "metadata": {
        "colab": {
          "base_uri": "https://localhost:8080/"
        },
        "id": "dNrnWJYZkS8n",
        "outputId": "cc3081a6-6192-41e9-b80f-64bae170c70d"
      },
      "source": [
        "alpha1 = 0.05\r\n",
        "alpha2 = 0.1\r\n",
        "\r\n",
        "a = grad_descent_const_step(x = x0, alpha = alpha1)\r\n",
        "print('')\r\n",
        "b = grad_descent_step_splitting(x = x0, alpha = alpha2)"
      ],
      "execution_count": 315,
      "outputs": [
        {
          "output_type": "stream",
          "text": [
            "Градиентный спуск с постоянным шагом alpha = 0.05 выполнил 38 шагов\n",
            "Точка с координатами х1 = 0.018248003631400726, x2 = 7.275957614183426e-12\n",
            "Значние функции в точке: 0.00033298963653161405\n",
            "\n",
            "Градиентный спуст с дроблением шага выполнил 20 шагов\n",
            "Заданная alpha = 0.1\n",
            "Выполнено 0 итераций дробления шага\n",
            "Точка с координатами х1 = 0.01152921504606847, x2 = 0.0\n",
            "Значние функции в точке: 0.0001329227995784916\n"
          ],
          "name": "stdout"
        }
      ]
    },
    {
      "cell_type": "code",
      "metadata": {
        "colab": {
          "base_uri": "https://localhost:8080/"
        },
        "id": "MvIm7yfskakW",
        "outputId": "fb95f0fb-3bbb-4b9c-ea6f-78c9ff33cb50"
      },
      "source": [
        "alpha1 = 0.1\r\n",
        "alpha2 = 100\r\n",
        "\r\n",
        "a = grad_descent_const_step(x = x0, alpha = alpha1)\r\n",
        "print('')\r\n",
        "b = grad_descent_step_splitting(x = x0, alpha = alpha2)"
      ],
      "execution_count": 316,
      "outputs": [
        {
          "output_type": "stream",
          "text": [
            "Градиентный спуск с постоянным шагом alpha = 0.1 выполнил 19 шагов\n",
            "Точка с координатами х1 = 0.014411518807585589, x2 = 0.0\n",
            "Значние функции в точке: 0.00020769187434139315\n",
            "\n",
            "Градиентный спуст с дроблением шага выполнил 16 шагов\n",
            "Заданная alpha = 100\n",
            "Выполнено 102 итераций дробления шага\n",
            "Точка с координатами х1 = 0.004473259252649832, x2 = 0.0007046703205447061\n",
            "Значние функции в точке: 2.2492849644700225e-05\n"
          ],
          "name": "stdout"
        }
      ]
    },
    {
      "cell_type": "markdown",
      "metadata": {
        "id": "ucbvMBsdgOwV"
      },
      "source": [
        "### Задание 2. [3 points]\n",
        "\n",
        "Для функции из предыдущего задания реализуйте градиентный спуск, в котором значение шага (скорости обучения) будет изменяться по формуле циклического косинусного ожига. ( в англ. литературе - cosine annealing learning rate или cosine decay lr). \n",
        "\n",
        "Доп. литература:\n",
        "- Циклический косинусный отжиг https://habr.com/ru/post/332534/\n",
        "\n",
        "- Пример colise decay в библиотеке Pytorch:\n",
        "https://www.programmersought.com/article/12164650026/"
      ]
    },
    {
      "cell_type": "code",
      "metadata": {
        "colab": {
          "base_uri": "https://localhost:8080/",
          "height": 265
        },
        "id": "gH7ECKffk9JM",
        "outputId": "5920a72c-34e9-4665-c9d8-5cc5c96136ef"
      },
      "source": [
        "def cosine_decay(t, T, M, alpha_beg = 0.1):\r\n",
        "  return alpha_beg /2 * (np.cos(np.pi * (t % (T / M)) / (T / M) ) + 1)\r\n",
        "\r\n",
        "#cosine_decay(9, 100, 5, alpha_beg = 0.01)\r\n",
        "\r\n",
        "T = 100\r\n",
        "M = 5\r\n",
        "x = np.arange(T)\r\n",
        "alpha = np.array([cosine_decay(i, T, M) for i in x])\r\n",
        "#alpha\r\n",
        "plt.plot(x, alpha)\r\n",
        "plt.show()"
      ],
      "execution_count": 317,
      "outputs": [
        {
          "output_type": "display_data",
          "data": {
            "image/png": "[encoded data removed]",
            "text/plain": [
              "<Figure size 432x288 with 1 Axes>"
            ]
          },
          "metadata": {
            "tags": [],
            "needs_background": "light"
          }
        }
      ]
    },
    {
      "cell_type": "code",
      "metadata": {
        "id": "FtNx_op7ncIT"
      },
      "source": [
        "#Градиентный спуск с косинусным отжигом\r\n",
        "def grad_descent_cos_dec(T, M, x = np.array([0, 0]), alpha_beg = 0.1):\r\n",
        "    grad = grad_f(x)\r\n",
        "    t = 0\r\n",
        "    X_snap_shot = []\r\n",
        "    Y_snap_shot = []    \r\n",
        "    while t < T:\r\n",
        "        alpha = cosine_decay(t, T, M, alpha_beg)\r\n",
        "        x = x - alpha * grad\r\n",
        "        grad = grad_f(x)        \r\n",
        "        if (t + 1) % (T / M) == 0:\r\n",
        "          X_snap_shot.append(x)\r\n",
        "          Y_snap_shot.append(f(x))\r\n",
        "        t += 1    \r\n",
        "    X_snap_shot = np.array([i for i in X_snap_shot])\r\n",
        "    Y_snap_shot = np.array([i for i in Y_snap_shot])\r\n",
        "    \r\n",
        "    for i in range(len(Y_snap_shot)):\r\n",
        "      if Y_snap_shot[i] == min(Y_snap_shot):\r\n",
        "        result = X_snap_shot[i]\r\n",
        "        break\r\n",
        "    print(f'Параметры косинусного отжига: эпох {T}, снэп-шотов {M}, начальный alpha = {alpha_beg}') \r\n",
        "    print(f'Snap_shots X: \\n{X_snap_shot}') \r\n",
        "    print(f'Snap_shots Y: \\n{Y_snap_shot}') \r\n",
        "    print(\"Точка минимума: {}\".format(result))\r\n",
        "    print(\"Значние функции в точке: {}\".format(f(result)))   \r\n",
        "    return result"
      ],
      "execution_count": 318,
      "outputs": []
    },
    {
      "cell_type": "code",
      "metadata": {
        "colab": {
          "base_uri": "https://localhost:8080/"
        },
        "id": "ueJB2Sa9NHtV",
        "outputId": "9ca083b7-98cb-4b7b-ba65-06c0526684b4"
      },
      "source": [
        "x0=[1, 2]\r\n",
        "res = grad_descent_cos_dec(100, 5, x = x0)  "
      ],
      "execution_count": 319,
      "outputs": [
        {
          "output_type": "stream",
          "text": [
            "Параметры косинусного отжига: эпох 100, снэп-шотов 5, начальный alpha = 0.1\n",
            "Snap_shots X: \n",
            "[[1.02202592e-01 0.00000000e+00]\n",
            " [1.04453698e-02 0.00000000e+00]\n",
            " [1.06754387e-03 0.00000000e+00]\n",
            " [1.09105750e-04 0.00000000e+00]\n",
            " [1.11508905e-05 0.00000000e+00]]\n",
            "Snap_shots Y: \n",
            "[1.04453698e-02 1.09105750e-04 1.13964991e-06 1.19040648e-08\n",
            " 1.24342359e-10]\n",
            "Точка минимума: [1.11508905e-05 0.00000000e+00]\n",
            "Значние функции в точке: 1.2434235890663626e-10\n"
          ],
          "name": "stdout"
        }
      ]
    },
    {
      "cell_type": "markdown",
      "metadata": {
        "id": "d2Non6JiiVoJ"
      },
      "source": [
        "### Задание 3. [0.75 point]\n",
        "Проверьте работу Вашего градиентного спуска с косинусным отжигом на произвольной функции ( полином должен быть не меньше 3-ьего порядка и задан в пространстве не меньше $R^3$)."
      ]
    },
    {
      "cell_type": "code",
      "metadata": {
        "id": "aXWcx4CRUJHl"
      },
      "source": [
        "def f(x):\r\n",
        "  return 2*x[0]**3 + 3*x[1]**2 + x[2]**2 - 1  \r\n",
        "\r\n",
        "def grad_f(x):\r\n",
        "  return np.array([6*x[0]**2, 6*x[1], 2*x[2]])  "
      ],
      "execution_count": 320,
      "outputs": []
    },
    {
      "cell_type": "code",
      "metadata": {
        "colab": {
          "base_uri": "https://localhost:8080/"
        },
        "id": "0Hn0G_c4UvUz",
        "outputId": "91723461-d52b-410e-b898-fceb7575687c"
      },
      "source": [
        "x0=[1, 2, 3]\r\n",
        "res = grad_descent_cos_dec(10000, 10, x = x0) "
      ],
      "execution_count": 321,
      "outputs": [
        {
          "output_type": "stream",
          "text": [
            "Параметры косинусного отжига: эпох 10000, снэп-шотов 10, начальный alpha = 0.1\n",
            "Snap_shots X: \n",
            "[[3.27914485e-003 5.30626068e-177 2.11111594e-047]\n",
            " [1.65129751e-003 4.94065646e-324 1.48560350e-094]\n",
            " [1.10366484e-003 0.00000000e+000 1.04542707e-141]\n",
            " [8.28840776e-004 0.00000000e+000 7.35672585e-189]\n",
            " [6.63611217e-004 0.00000000e+000 5.17696706e-236]\n",
            " [5.53314763e-004 0.00000000e+000 3.64305922e-283]\n",
            " [4.74459887e-004 0.00000000e+000 2.47032823e-323]\n",
            " [4.15278870e-004 0.00000000e+000 9.88131292e-324]\n",
            " [3.69225239e-004 0.00000000e+000 9.88131292e-324]\n",
            " [3.32367066e-004 0.00000000e+000 9.88131292e-324]]\n",
            "Snap_shots Y: \n",
            "[-0.99999993 -0.99999999 -1.         -1.         -1.         -1.\n",
            " -1.         -1.         -1.         -1.        ]\n",
            "Точка минимума: [3.32367066e-004 0.00000000e+000 9.88131292e-324]\n",
            "Значние функции в точке: -0.9999999999265682\n"
          ],
          "name": "stdout"
        }
      ]
    },
    {
      "cell_type": "markdown",
      "metadata": {
        "id": "UpONErtji81D"
      },
      "source": [
        "### Задание 4.\n",
        "Случайная величина X задана следующей функцией распределения:\n",
        "$$\n",
        "f(x)=\\left\\{\\begin{array}{r}\n",
        "0 \\text { npu } x \\leq \\pi \\\\\n",
        "-\\cos x \\text { npu } \\pi<x \\leq \\frac{3}{2} \\pi \\\\\n",
        "\\text { 0 npu } x>\\frac{3}{2} \\pi\n",
        "\\end{array}\\right.\n",
        "$$\n",
        "\n",
        "1. Постройте данную функцию распределения при помощи библиотеки seaborn **[0.25 point]**\n",
        "2. Найдите плотность вероятности. **[1 point]**\n",
        "3. Постройте график полученной плотности вероятности **[0.25 point]**\n",
        "\n",
        "4. Определить вероятность попадания случайной величины X в интервал $\\left[\\pi, \\frac{5}{4} \\pi\\right]$ **[0.75 point]**\n",
        "\n",
        "5. Найти математическое ожидание и дисперсию случайной величины X . **[0.75 point]**\n",
        "\n",
        "Так как мы не проходили интегрирование, то в 4 и 5 пунктах можете использовать\n",
        "wolfram alpha (https://www.wolframalpha.com) для интегрирования. Однако 2ой пункт задания (на нахождение производной) должен быть расписан!"
      ]
    },
    {
      "cell_type": "markdown",
      "metadata": {
        "id": "D_GTv8ZUt7CI"
      },
      "source": [
        "###Решение"
      ]
    },
    {
      "cell_type": "code",
      "metadata": {
        "colab": {
          "base_uri": "https://localhost:8080/",
          "height": 322
        },
        "id": "MBs3XtZ6Y2Cg",
        "outputId": "b80f8eab-fecc-42e1-f5af-cd2c097d5b8f"
      },
      "source": [
        "# 1) Постройте данную функцию распределения при помощи библиотеки seaborn\r\n",
        "\r\n",
        "def F(x):\r\n",
        "  return 0 if x < np.pi else - np.sin(x) if x<= 3/2*np.pi else 1\r\n",
        "\r\n",
        "x = np.arange(0, 2*np.pi, 1/(2*np.pi))\r\n",
        "y_c = np.array([F(i) for i in x])\r\n",
        "\r\n",
        "#plt.plot(x, y)\r\n",
        "sns.lineplot(x, y_c, label='F(x)')\r\n",
        "#plt.legend()\r\n",
        "plt.show()"
      ],
      "execution_count": 322,
      "outputs": [
        {
          "output_type": "stream",
          "text": [
            "/usr/local/lib/python3.6/dist-packages/seaborn/_decorators.py:43: FutureWarning: Pass the following variables as keyword args: x, y. From version 0.12, the only valid positional argument will be `data`, and passing other arguments without an explicit keyword will result in an error or misinterpretation.\n",
            "  FutureWarning\n"
          ],
          "name": "stderr"
        },
        {
          "output_type": "display_data",
          "data": {
            "image/png": "[encoded data removed]",
            "text/plain": [
              "<Figure size 432x288 with 1 Axes>"
            ]
          },
          "metadata": {
            "tags": [],
            "needs_background": "light"
          }
        }
      ]
    },
    {
      "cell_type": "code",
      "metadata": {
        "id": "ba6VIiLGLQs_"
      },
      "source": [
        "# 2) Найдите плотность вероятности\r\n",
        "# Плотность вероятности задана в условии задачи"
      ],
      "execution_count": 323,
      "outputs": []
    },
    {
      "cell_type": "code",
      "metadata": {
        "colab": {
          "base_uri": "https://localhost:8080/",
          "height": 322
        },
        "id": "4kT4cULvtKd8",
        "outputId": "c0ade0f8-28e3-45f9-cd6d-6741b6d4a644"
      },
      "source": [
        "# 3) Постройте график полученной плотности вероятности\r\n",
        "\r\n",
        "def f(x):\r\n",
        "  return 0 if x < np.pi else - np.cos(x) if x<= 3/2*np.pi else 0\r\n",
        "\r\n",
        "y_d = np.array([f(i) for i in x])\r\n",
        "sns.lineplot(x, y_d, label='f(x)')\r\n",
        "plt.show()\r\n"
      ],
      "execution_count": 324,
      "outputs": [
        {
          "output_type": "stream",
          "text": [
            "/usr/local/lib/python3.6/dist-packages/seaborn/_decorators.py:43: FutureWarning: Pass the following variables as keyword args: x, y. From version 0.12, the only valid positional argument will be `data`, and passing other arguments without an explicit keyword will result in an error or misinterpretation.\n",
            "  FutureWarning\n"
          ],
          "name": "stderr"
        },
        {
          "output_type": "display_data",
          "data": {
            "image/png": "[encoded data removed]",
            "text/plain": [
              "<Figure size 432x288 with 1 Axes>"
            ]
          },
          "metadata": {
            "tags": [],
            "needs_background": "light"
          }
        }
      ]
    },
    {
      "cell_type": "code",
      "metadata": {
        "colab": {
          "base_uri": "https://localhost:8080/"
        },
        "id": "bsEdsvhyPY8G",
        "outputId": "280e4847-e6db-4e75-f06b-15c22f9cc90e"
      },
      "source": [
        "# 4) Определить вероятность попадания случайной величины X в интервал [π,5/4π]\r\n",
        "a = np.array([np.pi, 5/4*np.pi])\r\n",
        "P = F(a[1]) - F(a[0])\r\n",
        "print(f'Вероятность попадания X в интервал [{a[0]}, {a[1]}] равна {P}')"
      ],
      "execution_count": 325,
      "outputs": [
        {
          "output_type": "stream",
          "text": [
            "Вероятность попадания X в интервал [3.141592653589793, 3.9269908169872414] равна 0.7071067811865476\n"
          ],
          "name": "stdout"
        }
      ]
    },
    {
      "cell_type": "markdown",
      "metadata": {
        "id": "AmwRbcfetWUv"
      },
      "source": [
        "__5)__ Найти математическое ожидание и дисперсию случайной величины X\r\n",
        "\r\n",
        "$M[X]=-\\int_{\\pi}^{\\frac{3}{2} \\pi} x \\cos x dx\r\n",
        "= -x\\sin x  + \\int_{\\pi}^{\\frac{3}{2} \\pi} \\sin x dx\r\n",
        "= (-x\\sin x - \\cos x) \\left\\|\\begin{array}1\\frac{3}{2} \\pi \\\\\\pi\\end{array}\\right.\r\n",
        "=\\frac{3}{2} \\pi - 0 - (-\\pi \\cdot 0 + 1) = \\frac{3}{2} \\pi - 1\r\n",
        "$\r\n",
        "$D[X]=-\\int_{\\pi}^{\\frac{3}{2} \\pi} x^{2} \\cos x dx - (\\frac{3}{2} \\pi - 1)^{2}\r\n",
        "= -x^{2}\\sin x + \\int_{\\pi}^{\\frac{3}{2} \\pi} 2x\\sin x dx - (\\frac{3}{2} \\pi - 1)^{2}\r\n",
        "= -x^{2}\\sin x - 2x\\cos x + 2\\int_{\\pi}^{\\frac{3}{2} \\pi} \\cos x dx - (\\frac{3}{2} \\pi - 1)^{2}\r\n",
        "= (-x^{2}\\sin x - 2x\\cos x + 2\\sin x )\\left\\|\\begin{array}1\\frac{3}{2} \\pi \\\\\\pi\\end{array}\\right. - (\\frac{3}{2} \\pi - 1)^{2}\r\n",
        "=\\frac{9}{4} \\pi^{2} - 2 - 2\\pi - (\\frac{3}{2} \\pi - 1)^{2}\r\n",
        "=\\frac{9}{4} \\pi^{2} - 2 - 2\\pi - \\frac{9}{4} \\pi^{2} + 3\\pi - 1\r\n",
        "=\\pi - 3\r\n",
        "$"
      ]
    },
    {
      "cell_type": "code",
      "metadata": {
        "colab": {
          "base_uri": "https://localhost:8080/"
        },
        "id": "-pn4-SMHWENQ",
        "outputId": "296c4bf1-98f2-4ab9-9723-12e21b9698b3"
      },
      "source": [
        "#Проверка на сгенерированной выборке по данному распределению\r\n",
        "\r\n",
        "import random\r\n",
        "# y = np.random.uniform(0, 1)\r\n",
        "# x = np.arcsin(y) + np.pi\r\n",
        "n = 10000\r\n",
        "X = np.array([np.arcsin(np.random.uniform(0, 1)) + np.pi for i in range(n)])\r\n",
        "#X\r\n",
        "print(f'Теоретическое M[X]: {3/2*np.pi - 1}')\r\n",
        "print(f'Выборочное среднее: {np.mean(X)}')\r\n",
        "print(f'Теоретическая D[X]: {np.pi - 3}')\r\n",
        "print(f'Выборочная дисерсия: {np.std(X) ** 2}')"
      ],
      "execution_count": 326,
      "outputs": [
        {
          "output_type": "stream",
          "text": [
            "Теоретическое M[X]: 3.7123889803846897\n",
            "Выборочное среднее: 3.711600453668472\n",
            "Теоретическая D[X]: 0.14159265358979312\n",
            "Выборочная дисерсия: 0.14017720659517055\n"
          ],
          "name": "stdout"
        }
      ]
    },
    {
      "cell_type": "markdown",
      "metadata": {
        "id": "-LrqILMHkgTd"
      },
      "source": [
        "### Задание 5 [1.5 point]\n",
        "\n",
        " Случайная величина Х задана функцией распределения F(x).\n",
        "\n",
        " $$F(x)=\\left\\{\\begin{array}{c}0, x \\leq 1 \\\\ x-1,1<x \\leq 2 \\\\ 1, x>2\\end{array}\\right.$$\n",
        "\n",
        " 1. Является ли случайная величина Х непрерывной?\n",
        "\n",
        " 2. имеет ли случайная величина Х плотность вероятности f(X)? Если имеет, найти ее. \n",
        " 3. постройте графики f(X) и F(X), если такое возможно.\n"
      ]
    },
    {
      "cell_type": "markdown",
      "metadata": {
        "id": "9ybYSWlmopqG"
      },
      "source": [
        "###Решение\r\n",
        "__1)__ X является непрерывной\r\n",
        "\r\n",
        "__2)__ Плотность вероятности величины X:\r\n",
        "$$f(x)=\\left\\{\\begin{array}{c}0, x \\leq 1 \\\\ 1, 1<x \\leq 2 \\\\ 0, x>2\\end{array}\\right.$$"
      ]
    },
    {
      "cell_type": "code",
      "metadata": {
        "colab": {
          "base_uri": "https://localhost:8080/",
          "height": 374
        },
        "id": "XJD3HtCPqMSB",
        "outputId": "ebf72482-53c1-46a9-9413-aad800646c08"
      },
      "source": [
        "def F(x):\r\n",
        "  return 0 if x <= 1 else 1 if x > 2 else x - 1\r\n",
        "\r\n",
        "def f(x):\r\n",
        "  return 1 if x > 1 and x <= 2 else 0\r\n",
        "\r\n",
        "x = np.arange(-1, 5, 0.1)\r\n",
        "c = np.array([F(i) for i in x])\r\n",
        "p = np.array([f(i) for i in x])\r\n",
        "\r\n",
        "plt.figure(figsize = (10, 6))\r\n",
        "plt.plot(x, p, label='плотность распределения вероятности')\r\n",
        "plt.plot(x, c, label='функция распределения вероятности')\r\n",
        "plt.legend()\r\n",
        "plt.show()"
      ],
      "execution_count": 327,
      "outputs": [
        {
          "output_type": "display_data",
          "data": {
            "image/png": "[encoded data removed]",
            "text/plain": [
              "<Figure size 720x432 with 1 Axes>"
            ]
          },
          "metadata": {
            "tags": [],
            "needs_background": "light"
          }
        }
      ]
    },
    {
      "cell_type": "markdown",
      "metadata": {
        "id": "xzQy9iYWmGD5"
      },
      "source": [
        "### Задание 6\n",
        "\n",
        "Рассмотрим несбалансированный набор данных с соотношением меньшего класса к большему 1: 100, где 100 экземпляров принадлежит меньшему классу, а 10 000 большему.\n",
        "\n",
        "Модель ML делает прогнозы и предсказывает 120 примеров как принадлежащих к классу меньшинства, 90 из которых верны, а 30 - неверны.\n",
        "\n",
        "Найти:\n",
        "\n",
        "- Precision **[0.5 point]**\n",
        "- Recall **[0.5 point]**\n",
        "- $F_1$ метрику **[0.5 point]**"
      ]
    },
    {
      "cell_type": "code",
      "metadata": {
        "id": "dnkSjI5tdWJe",
        "colab": {
          "base_uri": "https://localhost:8080/"
        },
        "outputId": "1bb94515-dfc3-4040-f1eb-335de447151d"
      },
      "source": [
        "mp_mtx = np.array([[90, 30], [10, 9990]])\r\n",
        "prec = mp_mtx[0][0] / (mp_mtx[0][0] + mp_mtx[0][1])\r\n",
        "rec = mp_mtx[0][0] / (mp_mtx[0][0] + mp_mtx[1][0])\r\n",
        "F1 = 2 * prec * rec / (prec + rec)\r\n",
        "\r\n",
        "print(mp_mtx)\r\n",
        "print(f'Precision: {prec}')\r\n",
        "print(f'Recall: {rec}')\r\n",
        "print(f'F1: {F1}')"
      ],
      "execution_count": 328,
      "outputs": [
        {
          "output_type": "stream",
          "text": [
            "[[  90   30]\n",
            " [  10 9990]]\n",
            "Precision: 0.75\n",
            "Recall: 0.9\n",
            "F1: 0.8181818181818182\n"
          ],
          "name": "stdout"
        }
      ]
    },
    {
      "cell_type": "code",
      "metadata": {
        "id": "Mye_Q-jgdP0g"
      },
      "source": [
        ""
      ],
      "execution_count": 328,
      "outputs": []
    }
  ]
}