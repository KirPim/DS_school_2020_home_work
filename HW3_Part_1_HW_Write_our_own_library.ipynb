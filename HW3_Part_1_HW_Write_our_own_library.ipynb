{
  "nbformat": 4,
  "nbformat_minor": 0,
  "metadata": {
    "colab": {
      "name": "HW3_Part_1_HW_Write_our_own_library.ipynb",
      "provenance": [],
      "collapsed_sections": [],
      "toc_visible": true,
      "include_colab_link": true
    },
    "kernelspec": {
      "name": "python3",
      "display_name": "Python 3"
    }
  },
  "cells": [
    {
      "cell_type": "markdown",
      "metadata": {
        "id": "view-in-github",
        "colab_type": "text"
      },
      "source": [
        "<a href=\"https://colab.research.google.com/github/KirPim/DS_school_2020_home_work/blob/main/HW3_Part_1_HW_Write_our_own_library.ipynb\" target=\"_parent\"><img src=\"https://colab.research.google.com/assets/colab-badge.svg\" alt=\"Open In Colab\"/></a>"
      ]
    },
    {
      "cell_type": "markdown",
      "metadata": {
        "id": "-PkQ9hSoulSP"
      },
      "source": [
        "## Домашнее задание. Часть 1.\n",
        "\n",
        "- напишем свою собственную библиотеку\n",
        "\n",
        "Вего за эту часть ДЗ можно набрать максимум **11.5 баллов**. Разбиение баллов по каждой из задач представлено непосредственно перед текстом каждой задачи.\n",
        "\n",
        "**Дедлайн - пятница, 11.12.2020 в 23:59.**\n",
        "\n",
        "Дедлайн жесткий, сдача после дедлайна - 0 баллов за ДЗ."
      ]
    },
    {
      "cell_type": "markdown",
      "metadata": {
        "id": "raMUrDs_OUUp"
      },
      "source": [
        "Ссылка на ноутбук в колабе: https://colab.research.google.com/drive/1LgWtESFmiNW1WlVFCHKyNl_BxAWxoL3Z?usp=sharing"
      ]
    },
    {
      "cell_type": "markdown",
      "metadata": {
        "id": "DlJPKMxvBZDq"
      },
      "source": [
        "Допустим мы хотим написать фнкцию, которая складывает 2 числа и сохранить ее в отдельный .py файл. Пример:"
      ]
    },
    {
      "cell_type": "code",
      "metadata": {
        "colab": {
          "base_uri": "https://localhost:8080/"
        },
        "id": "YWxx_tJFBWXc",
        "outputId": "f11bdd0e-ab69-4676-f84b-f439c97c68a3"
      },
      "source": [
        "%%writefile lib.py\n",
        "def summ(a1, b1):\n",
        "    return a1+b1"
      ],
      "execution_count": null,
      "outputs": [
        {
          "output_type": "stream",
          "text": [
            "Writing lib.py\n"
          ],
          "name": "stdout"
        }
      ]
    },
    {
      "cell_type": "code",
      "metadata": {
        "id": "GpwqwV2XBWe0"
      },
      "source": [
        "from lib import summ"
      ],
      "execution_count": null,
      "outputs": []
    },
    {
      "cell_type": "code",
      "metadata": {
        "colab": {
          "base_uri": "https://localhost:8080/"
        },
        "id": "PdSwrEkYud_1",
        "outputId": "e8e5eed0-73ef-439f-e6b2-f36e3933e8d4"
      },
      "source": [
        "summ(2,6)"
      ],
      "execution_count": null,
      "outputs": [
        {
          "output_type": "execute_result",
          "data": {
            "text/plain": [
              "8"
            ]
          },
          "metadata": {
            "tags": []
          },
          "execution_count": 3
        }
      ]
    },
    {
      "cell_type": "markdown",
      "metadata": {
        "id": "lzVEq6dcB_B6"
      },
      "source": [
        "Попробуем запустить через \"терминал\""
      ]
    },
    {
      "cell_type": "code",
      "metadata": {
        "id": "GnvjY52dB9F0"
      },
      "source": [
        "!python3 lib.py"
      ],
      "execution_count": null,
      "outputs": []
    },
    {
      "cell_type": "markdown",
      "metadata": {
        "id": "12k4C-iDCGD5"
      },
      "source": [
        "Ничего не происходит. А теперь добавим `if __name__ == \"__main__\"` в наш код и пересохраним файл lib.py"
      ]
    },
    {
      "cell_type": "code",
      "metadata": {
        "colab": {
          "base_uri": "https://localhost:8080/"
        },
        "id": "EXxDy4EoujyT",
        "outputId": "583ea14c-27c2-43f4-8891-6c575cdaaef4"
      },
      "source": [
        "%%writefile lib.py\n",
        "import sys\n",
        "\n",
        "a1 = float( sys.argv[1] ) # Считываем аргументы прямо из терминала\n",
        "b1 = float( sys.argv[2] ) # Считываем аргументы прямо из терминала\n",
        "\n",
        "def summ(a1, b1):\n",
        "    return a1+b1\n",
        "\n",
        "if __name__ == \"__main__\":\n",
        "    print(summ(a1, b1))\n"
      ],
      "execution_count": null,
      "outputs": [
        {
          "output_type": "stream",
          "text": [
            "Overwriting lib.py\n"
          ],
          "name": "stdout"
        }
      ]
    },
    {
      "cell_type": "code",
      "metadata": {
        "colab": {
          "base_uri": "https://localhost:8080/"
        },
        "id": "9kg9IKcWuj1F",
        "outputId": "ed47353d-2323-40e3-a5d8-abc4f77e6e1e"
      },
      "source": [
        "!python3 lib.py 2 4"
      ],
      "execution_count": null,
      "outputs": [
        {
          "output_type": "stream",
          "text": [
            "6.0\n"
          ],
          "name": "stdout"
        }
      ]
    },
    {
      "cell_type": "markdown",
      "metadata": {
        "id": "MEQd0OJnD4ut"
      },
      "source": [
        "# **Задание 1**\n",
        "\n",
        "Реализуйте следующие функции и сохраните их в библиотеку **my_math_lib.py** (пока без использования конструкции `if __name__ == \"__main__\"`)"
      ]
    },
    {
      "cell_type": "markdown",
      "metadata": {
        "id": "-irvYNmrD9FA"
      },
      "source": [
        "**1 point** \n",
        "1. **def deg_to_rad()**. Напишите программу на Python для преобразования градусов в радианы.  *(Note: Радиан - это стандартная единица измерения угла, используемая во многих областях математики. Измерение угла в радианах численно равно длине соответствующей дуги единичного круга; один радиан чуть меньше 57,3 градуса)* **1 point**\n",
        "\n",
        "**1 point** \n",
        "2. **def rad_to_def()**. Напишите программу Python для преобразования радианов в градусы.\n",
        "\n",
        "**1.5 point** \n",
        "3. **def discriminant()**. Напишите программу на Python для вычисления значения дискриминанта (вспоминаем квадратные уравнения). Входные данные три числа: x, y, z (учтите что корни могут быть комлЕксными!)\n",
        "\n",
        "**1.5 point** \n",
        "4. **def power_base_sum()**. Напишите программу на Python, чтобы вычислить сумму всех цифр основания в указанной степени.\n",
        "\n",
        "Пример: power_base_sum(2, 100)\n",
        "\n",
        "Выход: 115\n",
        "\n",
        "\n",
        "\n",
        "**2 point** \n",
        "5. **def magic_square()**. Напишите программу на Python для вычисления [магического квадрата](https://ru.wikipedia.org/wiki/Магический_квадрат)\n",
        "\n",
        "Note:\n",
        "\n",
        "Магический, или волшебный квадрат — это квадратная таблица , заполненная числами таким образом, что сумма чисел в каждой строке, каждом столбце и на обеих диагоналях одинакова. Сумма чисел в каждой строке, столбце и на диагоналях, называется магической константой, M.\n",
        "\n",
        "**1 point** \n",
        "6. **def mult_list()**. Напишите функцию Python для умножения всех чисел в массиве list(), (размер листа на входе произвольный)\n",
        "\n",
        "**1 point** \n",
        "7. **def create_list()**. Напишите функцию Python для создания и вывода списка (при помощи print()), в котором значения представляют собой квадрат чисел от 1 до 30 (оба включительно)."
      ]
    },
    {
      "cell_type": "code",
      "metadata": {
        "id": "cxjYPNRAIBqe",
        "colab": {
          "base_uri": "https://localhost:8080/"
        },
        "outputId": "dbd085ff-3531-4a73-d44b-b77019202a8d"
      },
      "source": [
        "#TODO\n",
        "%%writefile my_math_lib.py\n",
        "\n",
        "import numpy as np\n",
        "\n",
        "def deg_to_rad(deg):  \n",
        "  pi = np.pi\n",
        "  rad = deg * pi / 180\n",
        "  return rad\n",
        "\n",
        "def rad_to_def(rad):  \n",
        "  pi = np.pi\n",
        "  deg = rad * 180 / pi\n",
        "  return deg  \n",
        "\n",
        "def discriminant(x, y, z):  \n",
        "  d = y**2 - 4 * x * z\n",
        "  return d  \n",
        "\n",
        "def power_base_sum(a, x):  \n",
        "  d_str = str(a**x)\n",
        "  sum = 0\n",
        "  for i in d_str:\n",
        "    sum += int(i)\n",
        "  return sum  \n",
        "\n",
        "def magic_square(n):  \n",
        "  m = np.zeros((n,n))\n",
        "  for i in range(1, n + 1):\n",
        "    for j in range(1, n + 1):\n",
        "      m[i-1][j-1] = 1 + ((i + j - 1 + (n - 1) / 2) % n) * n + ((i + 2 * j + 2) % n)\n",
        "  return m \n",
        "\n",
        "def mult_list(x):\n",
        "  c = 1  \n",
        "  for i in x:\n",
        "    c *= i\n",
        "  return c \n",
        "\n",
        "def create_list():\n",
        "  x = [i**2 for i in range(1, 31)]\n",
        "  print(x)\n",
        "\n",
        "\n",
        "# deg_to_rad(57.3)\n",
        "# rad_to_def(np.pi)\n",
        "# discriminant(1, 1, -1)\n",
        "# power_base_sum(2, 100)\n",
        "# magic_square(5)\n",
        "# mult_list([1, 2, 3])\n",
        "# create_list()"
      ],
      "execution_count": null,
      "outputs": [
        {
          "output_type": "stream",
          "text": [
            "Writing my_math_lib.py\n"
          ],
          "name": "stdout"
        }
      ]
    },
    {
      "cell_type": "markdown",
      "metadata": {
        "id": "cSdLK3ZSID3B"
      },
      "source": [
        "# **Задание 2**\n",
        "Импортируйте все методы из модуля my_math_lib.\n",
        "\n",
        " **0.25 point** \n",
        " - при помощи функции **def discriminant()** посчитайте дискриминант следующего уравнения: \n",
        " $x^{2}+3 x+4=0$\n",
        "\n",
        "**0.25 point** \n",
        " - постройте магический квадрат размера 5х5"
      ]
    },
    {
      "cell_type": "code",
      "metadata": {
        "id": "k1Jhjs6FD8Sy"
      },
      "source": [
        "from my_math_lib import * #TODO"
      ],
      "execution_count": null,
      "outputs": []
    },
    {
      "cell_type": "code",
      "metadata": {
        "id": "zjQVS7m8uj4J",
        "colab": {
          "base_uri": "https://localhost:8080/"
        },
        "outputId": "e1cf9924-06d9-4c98-f7fb-722c24d80d59"
      },
      "source": [
        "discriminant(1, 3, 4)"
      ],
      "execution_count": null,
      "outputs": [
        {
          "output_type": "execute_result",
          "data": {
            "text/plain": [
              "-7"
            ]
          },
          "metadata": {
            "tags": []
          },
          "execution_count": 9
        }
      ]
    },
    {
      "cell_type": "code",
      "metadata": {
        "colab": {
          "base_uri": "https://localhost:8080/"
        },
        "id": "pAFRQ0TOnkm5",
        "outputId": "5e0c35da-eb27-474c-8fd7-751fde5d5920"
      },
      "source": [
        "magic_square(5)"
      ],
      "execution_count": null,
      "outputs": [
        {
          "output_type": "execute_result",
          "data": {
            "text/plain": [
              "array([[16., 23.,  5.,  7., 14.],\n",
              "       [22.,  4.,  6., 13., 20.],\n",
              "       [ 3., 10., 12., 19., 21.],\n",
              "       [ 9., 11., 18., 25.,  2.],\n",
              "       [15., 17., 24.,  1.,  8.]])"
            ]
          },
          "metadata": {
            "tags": []
          },
          "execution_count": 10
        }
      ]
    },
    {
      "cell_type": "markdown",
      "metadata": {
        "id": "1xqoQlZkId3s"
      },
      "source": [
        "# **Задание 3**\n",
        "\n",
        "**2 point**\n",
        "* Добавьте в вашу библиотеку конструкцию `if __name__ == \"__main__\"`, которая должна принимать одну из вышеперечисленных функций. \n",
        "* Важно! аргументы, подаваемые в функцию, должны подаваться напряму через терминал (как в примере)! Используйте для этого библиотеку `sys`"
      ]
    },
    {
      "cell_type": "code",
      "metadata": {
        "id": "CPMx4V4DJIVx",
        "colab": {
          "base_uri": "https://localhost:8080/"
        },
        "outputId": "bfeb10aa-8843-4c6c-fe6d-031d8b8063ca"
      },
      "source": [
        "#TODO\n",
        "%%writefile my_math_lib.py\n",
        "\n",
        "import numpy as np\n",
        "import sys\n",
        "\n",
        "def deg_to_rad(deg):  \n",
        "  pi = np.pi\n",
        "  rad = deg * pi / 180\n",
        "  return rad\n",
        "\n",
        "def rad_to_def(rad):  \n",
        "  pi = np.pi\n",
        "  deg = rad * 180 / pi\n",
        "  return deg  \n",
        "\n",
        "def discriminant(x, y, z):  \n",
        "  d = y**2 - 4 * x * z\n",
        "  return d  \n",
        "\n",
        "def power_base_sum(a, x):  \n",
        "  d_str = str(a**x)\n",
        "  sum = 0\n",
        "  for i in d_str:\n",
        "    sum += int(i)\n",
        "  return sum  \n",
        "\n",
        "\n",
        "n = int(sys.argv[1])\n",
        "\n",
        "def magic_square(n):  \n",
        "  m = np.zeros((n,n))\n",
        "  for i in range(1, n + 1):\n",
        "    for j in range(1, n + 1):\n",
        "      m[i-1][j-1] = 1 + ((i + j - 1 + (n - 1) / 2) % n) * n + ((i + 2 * j + 2) % n)\n",
        "  return m \n",
        "\n",
        "def mult_list(x):\n",
        "  c = 1  \n",
        "  for i in x:\n",
        "    c *= i\n",
        "  return c \n",
        "\n",
        "def create_list():\n",
        "  x = [i**2 for i in range(1, 31)]\n",
        "  print(x)\n",
        "\n",
        "\n",
        "if __name__ == \"__main__\":\n",
        "    print(magic_square(n))   "
      ],
      "execution_count": null,
      "outputs": [
        {
          "output_type": "stream",
          "text": [
            "Overwriting my_math_lib.py\n"
          ],
          "name": "stdout"
        }
      ]
    },
    {
      "cell_type": "code",
      "metadata": {
        "id": "RAeJ3p1BJX05"
      },
      "source": [
        "# Пример вызова функции - Вы можете вызвать любую другую\n",
        "!python3 my_math_lib.py 3 4 5 # Например если в __main__ вы указали def discriminant()"
      ],
      "execution_count": null,
      "outputs": []
    },
    {
      "cell_type": "code",
      "metadata": {
        "colab": {
          "base_uri": "https://localhost:8080/"
        },
        "id": "Ml4CZSQEHXsf",
        "outputId": "62fa4f59-6598-42a0-a176-36be0f64c5c1"
      },
      "source": [
        "#вызываем функцию вычисления магического квадрата нечетногол порядка\n",
        "!python3 my_math_lib.py 23"
      ],
      "execution_count": null,
      "outputs": [
        {
          "output_type": "stream",
          "text": [
            "[[282. 307. 332. 357. 382. 407. 432. 457. 482. 484. 509.   5.  30.  55.\n",
            "   80. 105. 130. 155. 180. 205. 230. 232. 257.]\n",
            " [306. 331. 356. 381. 406. 431. 456. 481. 506. 508.   4.  29.  54.  79.\n",
            "  104. 129. 154. 179. 204. 229. 231. 256. 281.]\n",
            " [330. 355. 380. 405. 430. 455. 480. 505. 507.   3.  28.  53.  78. 103.\n",
            "  128. 153. 178. 203. 228. 253. 255. 280. 305.]\n",
            " [354. 379. 404. 429. 454. 479. 504. 529.   2.  27.  52.  77. 102. 127.\n",
            "  152. 177. 202. 227. 252. 254. 279. 304. 329.]\n",
            " [378. 403. 428. 453. 478. 503. 528.   1.  26.  51.  76. 101. 126. 151.\n",
            "  176. 201. 226. 251. 276. 278. 303. 328. 353.]\n",
            " [402. 427. 452. 477. 502. 527.  23.  25.  50.  75. 100. 125. 150. 175.\n",
            "  200. 225. 250. 275. 277. 302. 327. 352. 377.]\n",
            " [426. 451. 476. 501. 526.  22.  24.  49.  74.  99. 124. 149. 174. 199.\n",
            "  224. 249. 274. 299. 301. 326. 351. 376. 401.]\n",
            " [450. 475. 500. 525.  21.  46.  48.  73.  98. 123. 148. 173. 198. 223.\n",
            "  248. 273. 298. 300. 325. 350. 375. 400. 425.]\n",
            " [474. 499. 524.  20.  45.  47.  72.  97. 122. 147. 172. 197. 222. 247.\n",
            "  272. 297. 322. 324. 349. 374. 399. 424. 449.]\n",
            " [498. 523.  19.  44.  69.  71.  96. 121. 146. 171. 196. 221. 246. 271.\n",
            "  296. 321. 323. 348. 373. 398. 423. 448. 473.]\n",
            " [522.  18.  43.  68.  70.  95. 120. 145. 170. 195. 220. 245. 270. 295.\n",
            "  320. 345. 347. 372. 397. 422. 447. 472. 497.]\n",
            " [ 17.  42.  67.  92.  94. 119. 144. 169. 194. 219. 244. 269. 294. 319.\n",
            "  344. 346. 371. 396. 421. 446. 471. 496. 521.]\n",
            " [ 41.  66.  91.  93. 118. 143. 168. 193. 218. 243. 268. 293. 318. 343.\n",
            "  368. 370. 395. 420. 445. 470. 495. 520.  16.]\n",
            " [ 65.  90. 115. 117. 142. 167. 192. 217. 242. 267. 292. 317. 342. 367.\n",
            "  369. 394. 419. 444. 469. 494. 519.  15.  40.]\n",
            " [ 89. 114. 116. 141. 166. 191. 216. 241. 266. 291. 316. 341. 366. 391.\n",
            "  393. 418. 443. 468. 493. 518.  14.  39.  64.]\n",
            " [113. 138. 140. 165. 190. 215. 240. 265. 290. 315. 340. 365. 390. 392.\n",
            "  417. 442. 467. 492. 517.  13.  38.  63.  88.]\n",
            " [137. 139. 164. 189. 214. 239. 264. 289. 314. 339. 364. 389. 414. 416.\n",
            "  441. 466. 491. 516.  12.  37.  62.  87. 112.]\n",
            " [161. 163. 188. 213. 238. 263. 288. 313. 338. 363. 388. 413. 415. 440.\n",
            "  465. 490. 515.  11.  36.  61.  86. 111. 136.]\n",
            " [162. 187. 212. 237. 262. 287. 312. 337. 362. 387. 412. 437. 439. 464.\n",
            "  489. 514.  10.  35.  60.  85. 110. 135. 160.]\n",
            " [186. 211. 236. 261. 286. 311. 336. 361. 386. 411. 436. 438. 463. 488.\n",
            "  513.   9.  34.  59.  84. 109. 134. 159. 184.]\n",
            " [210. 235. 260. 285. 310. 335. 360. 385. 410. 435. 460. 462. 487. 512.\n",
            "    8.  33.  58.  83. 108. 133. 158. 183. 185.]\n",
            " [234. 259. 284. 309. 334. 359. 384. 409. 434. 459. 461. 486. 511.   7.\n",
            "   32.  57.  82. 107. 132. 157. 182. 207. 209.]\n",
            " [258. 283. 308. 333. 358. 383. 408. 433. 458. 483. 485. 510.   6.  31.\n",
            "   56.  81. 106. 131. 156. 181. 206. 208. 233.]]\n"
          ],
          "name": "stdout"
        }
      ]
    }
  ]
}