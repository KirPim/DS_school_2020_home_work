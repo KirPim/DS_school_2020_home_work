{
  "nbformat": 4,
  "nbformat_minor": 0,
  "metadata": {
    "colab": {
      "name": "HW5_lesson_6.ipynb",
      "provenance": [],
      "collapsed_sections": [],
      "authorship_tag": "ABX9TyNEai8hpWgIcHelKRYrXK+l",
      "include_colab_link": true
    },
    "kernelspec": {
      "name": "python3",
      "display_name": "Python 3"
    }
  },
  "cells": [
    {
      "cell_type": "markdown",
      "metadata": {
        "id": "view-in-github",
        "colab_type": "text"
      },
      "source": [
        "<a href=\"https://colab.research.google.com/github/KirPim/DS_school_2020_home_work/blob/main/HW5_lesson_6.ipynb\" target=\"_parent\"><img src=\"https://colab.research.google.com/assets/colab-badge.svg\" alt=\"Open In Colab\"/></a>"
      ]
    },
    {
      "cell_type": "code",
      "metadata": {
        "id": "0_PUKeLFHoXG"
      },
      "source": [
        "import sys\n",
        "from sqlalchemy import Column, ForeignKey, Integer, String\n",
        "from sqlalchemy.ext.declarative import declarative_base\n",
        "from sqlalchemy.orm import relationship\n",
        "from sqlalchemy import create_engine"
      ],
      "execution_count": 1,
      "outputs": []
    },
    {
      "cell_type": "code",
      "metadata": {
        "id": "XcyrGKGQNakJ"
      },
      "source": [
        "from IPython.display import display\n",
        "import pandas as pd\n",
        "import sqlalchemy\n",
        "\n",
        "def sql(query):\n",
        "    print()\n",
        "    print(query)\n",
        "    print()\n",
        "\n",
        "def get_results(query):\n",
        "    global engine\n",
        "    q = query.statement if isinstance(query, sqlalchemy.orm.query.Query) else query\n",
        "    return pd.read_sql(q, engine)\n",
        "\n",
        "def display_results(query):\n",
        "    df = get_results(query)\n",
        "    display(df)\n",
        "    #sql(query)\n"
      ],
      "execution_count": 2,
      "outputs": []
    },
    {
      "cell_type": "code",
      "metadata": {
        "id": "U9unHD1rHoZ-"
      },
      "source": [
        "Base = declarative_base()\n",
        "\n",
        "class Person(Base):\n",
        "    __tablename__= 'person'\n",
        "    id = Column(Integer, primary_key=True)\n",
        "    name = Column(String(250), nullable=False)\n",
        "    \n",
        "class Address(Base):\n",
        "    __tablename__ = 'address'\n",
        "    id = Column(Integer, primary_key=True)\n",
        "    country = Column(String(250))\n",
        "    state = Column(String(250))\n",
        "    street_name = Column(String(250))\n",
        "    street_number = Column(String(250))\n",
        "    post_code = Column(String(250))\n",
        "    person_id = Column(Integer, ForeignKey('person.id'))\n",
        "    person = relationship(Person)\n",
        "\n",
        "engine = create_engine('sqlite:///sqlalchemy_example.db')\n",
        "\n",
        "connection = engine.connect()\n",
        "\n",
        "Base.metadata.create_all(engine)"
      ],
      "execution_count": 3,
      "outputs": []
    },
    {
      "cell_type": "code",
      "metadata": {
        "id": "LkspRLHqHodh"
      },
      "source": [
        "from sqlalchemy import create_engine\n",
        "from sqlalchemy.orm import sessionmaker\n",
        "from sqlalchemy import select"
      ],
      "execution_count": 4,
      "outputs": []
    },
    {
      "cell_type": "code",
      "metadata": {
        "id": "85QKyqHBH92d"
      },
      "source": [
        "DBSession = sessionmaker(bind=engine)\n",
        "session = DBSession()\n",
        "\n",
        "new_person = Person(name='Nawin')\n",
        "session.add(new_person)\n",
        "session.commit()\n",
        "\n",
        "new_address = Address(post_code='48103',country = 'USA', state = 'WA', street_name ='West Huron Street',street_number ='1', person=new_person)\n",
        "session.add(new_address)\n",
        "session.commit()"
      ],
      "execution_count": 5,
      "outputs": []
    },
    {
      "cell_type": "code",
      "metadata": {
        "id": "i2ZumUw_H-Ex",
        "colab": {
          "base_uri": "https://localhost:8080/"
        },
        "outputId": "7b85910f-2a86-4b2e-8805-d2dc45c9a793"
      },
      "source": [
        "engine.table_names()"
      ],
      "execution_count": 6,
      "outputs": [
        {
          "output_type": "execute_result",
          "data": {
            "text/plain": [
              "['address', 'person']"
            ]
          },
          "metadata": {
            "tags": []
          },
          "execution_count": 6
        }
      ]
    },
    {
      "cell_type": "markdown",
      "metadata": {
        "id": "Q9tgst13N3z7"
      },
      "source": [
        "Добавим несколько людей с разными адресами"
      ]
    },
    {
      "cell_type": "code",
      "metadata": {
        "id": "e6hvE5fqO4mI"
      },
      "source": [
        "from sqlalchemy import exists\n",
        "def record_exists(session, name):\n",
        "    return session.query(exists().where(Person.name == name)).scalar()"
      ],
      "execution_count": 7,
      "outputs": []
    },
    {
      "cell_type": "code",
      "metadata": {
        "id": "9f9xwmVfU7x9"
      },
      "source": [
        "names = ['Moshe', 'Lisa', 'Nika']\n",
        "adress_info = [('141700', 'Russia', 'Moscow', 'Pervomay Street', '42'), #Moshe adress\n",
        "               ('141700', 'Russia', 'Moscow', 'Pervomay Street', '42'), #Lisa adress\n",
        "               ('655689', 'USA', 'CA', 'Green Street', '104')] #Nika adress"
      ],
      "execution_count": 8,
      "outputs": []
    },
    {
      "cell_type": "code",
      "metadata": {
        "id": "ryWBclC4PZco"
      },
      "source": [
        "for i, name, adress in zip(range(len(names)), names, adress_info):\n",
        "    if not record_exists(session, name):\n",
        "        new_person = Person(name=name)\n",
        "        new_address = Address(country=adress[1],state=adress[2], street_number=adress[4], post_code=adress[0],street_name =adress[3], person=new_person)\n",
        "        session.add(new_person)\n",
        "        session.add(new_address)\n",
        "    else:\n",
        "        print(\"Already exists, skipping...\")\n",
        "\n",
        "session.commit()"
      ],
      "execution_count": 11,
      "outputs": []
    },
    {
      "cell_type": "markdown",
      "metadata": {
        "id": "VpBJwAU8QJ92"
      },
      "source": [
        "Проверим теперь таблицу"
      ]
    },
    {
      "cell_type": "code",
      "metadata": {
        "id": "OmotKm8-PZgu",
        "colab": {
          "base_uri": "https://localhost:8080/",
          "height": 173
        },
        "outputId": "9b007a4c-5598-4cdf-c29d-b18811a413b9"
      },
      "source": [
        "query = select([Person.id, Person.name])\n",
        "display_results(query)"
      ],
      "execution_count": 12,
      "outputs": [
        {
          "output_type": "display_data",
          "data": {
            "text/html": [
              "<div>\n",
              "<style scoped>\n",
              "    .dataframe tbody tr th:only-of-type {\n",
              "        vertical-align: middle;\n",
              "    }\n",
              "\n",
              "    .dataframe tbody tr th {\n",
              "        vertical-align: top;\n",
              "    }\n",
              "\n",
              "    .dataframe thead th {\n",
              "        text-align: right;\n",
              "    }\n",
              "</style>\n",
              "<table border=\"1\" class=\"dataframe\">\n",
              "  <thead>\n",
              "    <tr style=\"text-align: right;\">\n",
              "      <th></th>\n",
              "      <th>id</th>\n",
              "      <th>name</th>\n",
              "    </tr>\n",
              "  </thead>\n",
              "  <tbody>\n",
              "    <tr>\n",
              "      <th>0</th>\n",
              "      <td>1</td>\n",
              "      <td>Nawin</td>\n",
              "    </tr>\n",
              "    <tr>\n",
              "      <th>1</th>\n",
              "      <td>2</td>\n",
              "      <td>Moshe</td>\n",
              "    </tr>\n",
              "    <tr>\n",
              "      <th>2</th>\n",
              "      <td>3</td>\n",
              "      <td>Lisa</td>\n",
              "    </tr>\n",
              "    <tr>\n",
              "      <th>3</th>\n",
              "      <td>4</td>\n",
              "      <td>Nika</td>\n",
              "    </tr>\n",
              "  </tbody>\n",
              "</table>\n",
              "</div>"
            ],
            "text/plain": [
              "   id   name\n",
              "0   1  Nawin\n",
              "1   2  Moshe\n",
              "2   3   Lisa\n",
              "3   4   Nika"
            ]
          },
          "metadata": {
            "tags": []
          }
        }
      ]
    },
    {
      "cell_type": "code",
      "metadata": {
        "id": "tReT7S1HVxNL",
        "colab": {
          "base_uri": "https://localhost:8080/",
          "height": 173
        },
        "outputId": "7ddb2458-5ddf-4292-bf6d-47baf1f7f8e7"
      },
      "source": [
        "query = select([Address])\n",
        "display_results(query)"
      ],
      "execution_count": 13,
      "outputs": [
        {
          "output_type": "display_data",
          "data": {
            "text/html": [
              "<div>\n",
              "<style scoped>\n",
              "    .dataframe tbody tr th:only-of-type {\n",
              "        vertical-align: middle;\n",
              "    }\n",
              "\n",
              "    .dataframe tbody tr th {\n",
              "        vertical-align: top;\n",
              "    }\n",
              "\n",
              "    .dataframe thead th {\n",
              "        text-align: right;\n",
              "    }\n",
              "</style>\n",
              "<table border=\"1\" class=\"dataframe\">\n",
              "  <thead>\n",
              "    <tr style=\"text-align: right;\">\n",
              "      <th></th>\n",
              "      <th>id</th>\n",
              "      <th>country</th>\n",
              "      <th>state</th>\n",
              "      <th>street_name</th>\n",
              "      <th>street_number</th>\n",
              "      <th>post_code</th>\n",
              "      <th>person_id</th>\n",
              "    </tr>\n",
              "  </thead>\n",
              "  <tbody>\n",
              "    <tr>\n",
              "      <th>0</th>\n",
              "      <td>1</td>\n",
              "      <td>USA</td>\n",
              "      <td>WA</td>\n",
              "      <td>West Huron Street</td>\n",
              "      <td>1</td>\n",
              "      <td>48103</td>\n",
              "      <td>1</td>\n",
              "    </tr>\n",
              "    <tr>\n",
              "      <th>1</th>\n",
              "      <td>2</td>\n",
              "      <td>Russia</td>\n",
              "      <td>Moscow</td>\n",
              "      <td>Pervomay Street</td>\n",
              "      <td>42</td>\n",
              "      <td>141700</td>\n",
              "      <td>2</td>\n",
              "    </tr>\n",
              "    <tr>\n",
              "      <th>2</th>\n",
              "      <td>3</td>\n",
              "      <td>Russia</td>\n",
              "      <td>Moscow</td>\n",
              "      <td>Pervomay Street</td>\n",
              "      <td>42</td>\n",
              "      <td>141700</td>\n",
              "      <td>3</td>\n",
              "    </tr>\n",
              "    <tr>\n",
              "      <th>3</th>\n",
              "      <td>4</td>\n",
              "      <td>USA</td>\n",
              "      <td>CA</td>\n",
              "      <td>Green Street</td>\n",
              "      <td>104</td>\n",
              "      <td>655689</td>\n",
              "      <td>4</td>\n",
              "    </tr>\n",
              "  </tbody>\n",
              "</table>\n",
              "</div>"
            ],
            "text/plain": [
              "   id country   state        street_name street_number post_code  person_id\n",
              "0   1     USA      WA  West Huron Street             1     48103          1\n",
              "1   2  Russia  Moscow    Pervomay Street            42    141700          2\n",
              "2   3  Russia  Moscow    Pervomay Street            42    141700          3\n",
              "3   4     USA      CA       Green Street           104    655689          4"
            ]
          },
          "metadata": {
            "tags": []
          }
        }
      ]
    },
    {
      "cell_type": "markdown",
      "metadata": {
        "id": "G1TjwzfiSnSi"
      },
      "source": [
        "Другой способ добавления с использованием **add_all()**"
      ]
    },
    {
      "cell_type": "code",
      "metadata": {
        "id": "ux3E1H-_QOEY"
      },
      "source": [
        "session.add_all([Person(name='Max'),\n",
        "                 Person(name='Dan'),\n",
        "                 Person(name='Alex')])\n",
        "session.commit()"
      ],
      "execution_count": 14,
      "outputs": []
    },
    {
      "cell_type": "code",
      "metadata": {
        "id": "KQ0xg_YwQOIi",
        "colab": {
          "base_uri": "https://localhost:8080/",
          "height": 266
        },
        "outputId": "eb43dff5-4292-4caa-aac6-bc513220a1fa"
      },
      "source": [
        "query = select([Person.id, Person.name])\n",
        "display_results(query)"
      ],
      "execution_count": 15,
      "outputs": [
        {
          "output_type": "display_data",
          "data": {
            "text/html": [
              "<div>\n",
              "<style scoped>\n",
              "    .dataframe tbody tr th:only-of-type {\n",
              "        vertical-align: middle;\n",
              "    }\n",
              "\n",
              "    .dataframe tbody tr th {\n",
              "        vertical-align: top;\n",
              "    }\n",
              "\n",
              "    .dataframe thead th {\n",
              "        text-align: right;\n",
              "    }\n",
              "</style>\n",
              "<table border=\"1\" class=\"dataframe\">\n",
              "  <thead>\n",
              "    <tr style=\"text-align: right;\">\n",
              "      <th></th>\n",
              "      <th>id</th>\n",
              "      <th>name</th>\n",
              "    </tr>\n",
              "  </thead>\n",
              "  <tbody>\n",
              "    <tr>\n",
              "      <th>0</th>\n",
              "      <td>1</td>\n",
              "      <td>Nawin</td>\n",
              "    </tr>\n",
              "    <tr>\n",
              "      <th>1</th>\n",
              "      <td>2</td>\n",
              "      <td>Moshe</td>\n",
              "    </tr>\n",
              "    <tr>\n",
              "      <th>2</th>\n",
              "      <td>3</td>\n",
              "      <td>Lisa</td>\n",
              "    </tr>\n",
              "    <tr>\n",
              "      <th>3</th>\n",
              "      <td>4</td>\n",
              "      <td>Nika</td>\n",
              "    </tr>\n",
              "    <tr>\n",
              "      <th>4</th>\n",
              "      <td>5</td>\n",
              "      <td>Max</td>\n",
              "    </tr>\n",
              "    <tr>\n",
              "      <th>5</th>\n",
              "      <td>6</td>\n",
              "      <td>Dan</td>\n",
              "    </tr>\n",
              "    <tr>\n",
              "      <th>6</th>\n",
              "      <td>7</td>\n",
              "      <td>Alex</td>\n",
              "    </tr>\n",
              "  </tbody>\n",
              "</table>\n",
              "</div>"
            ],
            "text/plain": [
              "   id   name\n",
              "0   1  Nawin\n",
              "1   2  Moshe\n",
              "2   3   Lisa\n",
              "3   4   Nika\n",
              "4   5    Max\n",
              "5   6    Dan\n",
              "6   7   Alex"
            ]
          },
          "metadata": {
            "tags": []
          }
        }
      ]
    },
    {
      "cell_type": "code",
      "metadata": {
        "id": "agOyki3aUGv5",
        "colab": {
          "base_uri": "https://localhost:8080/",
          "height": 173
        },
        "outputId": "e8e16fa4-e557-4127-807b-5b5e89804323"
      },
      "source": [
        "query = select([Address])\n",
        "display_results(query)"
      ],
      "execution_count": 16,
      "outputs": [
        {
          "output_type": "display_data",
          "data": {
            "text/html": [
              "<div>\n",
              "<style scoped>\n",
              "    .dataframe tbody tr th:only-of-type {\n",
              "        vertical-align: middle;\n",
              "    }\n",
              "\n",
              "    .dataframe tbody tr th {\n",
              "        vertical-align: top;\n",
              "    }\n",
              "\n",
              "    .dataframe thead th {\n",
              "        text-align: right;\n",
              "    }\n",
              "</style>\n",
              "<table border=\"1\" class=\"dataframe\">\n",
              "  <thead>\n",
              "    <tr style=\"text-align: right;\">\n",
              "      <th></th>\n",
              "      <th>id</th>\n",
              "      <th>country</th>\n",
              "      <th>state</th>\n",
              "      <th>street_name</th>\n",
              "      <th>street_number</th>\n",
              "      <th>post_code</th>\n",
              "      <th>person_id</th>\n",
              "    </tr>\n",
              "  </thead>\n",
              "  <tbody>\n",
              "    <tr>\n",
              "      <th>0</th>\n",
              "      <td>1</td>\n",
              "      <td>USA</td>\n",
              "      <td>WA</td>\n",
              "      <td>West Huron Street</td>\n",
              "      <td>1</td>\n",
              "      <td>48103</td>\n",
              "      <td>1</td>\n",
              "    </tr>\n",
              "    <tr>\n",
              "      <th>1</th>\n",
              "      <td>2</td>\n",
              "      <td>Russia</td>\n",
              "      <td>Moscow</td>\n",
              "      <td>Pervomay Street</td>\n",
              "      <td>42</td>\n",
              "      <td>141700</td>\n",
              "      <td>2</td>\n",
              "    </tr>\n",
              "    <tr>\n",
              "      <th>2</th>\n",
              "      <td>3</td>\n",
              "      <td>Russia</td>\n",
              "      <td>Moscow</td>\n",
              "      <td>Pervomay Street</td>\n",
              "      <td>42</td>\n",
              "      <td>141700</td>\n",
              "      <td>3</td>\n",
              "    </tr>\n",
              "    <tr>\n",
              "      <th>3</th>\n",
              "      <td>4</td>\n",
              "      <td>USA</td>\n",
              "      <td>CA</td>\n",
              "      <td>Green Street</td>\n",
              "      <td>104</td>\n",
              "      <td>655689</td>\n",
              "      <td>4</td>\n",
              "    </tr>\n",
              "  </tbody>\n",
              "</table>\n",
              "</div>"
            ],
            "text/plain": [
              "   id country   state        street_name street_number post_code  person_id\n",
              "0   1     USA      WA  West Huron Street             1     48103          1\n",
              "1   2  Russia  Moscow    Pervomay Street            42    141700          2\n",
              "2   3  Russia  Moscow    Pervomay Street            42    141700          3\n",
              "3   4     USA      CA       Green Street           104    655689          4"
            ]
          },
          "metadata": {
            "tags": []
          }
        }
      ]
    },
    {
      "cell_type": "markdown",
      "metadata": {
        "id": "w3l3KUTi1Ih_"
      },
      "source": [
        "# Домашнее задание"
      ]
    },
    {
      "cell_type": "markdown",
      "metadata": {
        "id": "CGa-FDMl0gkZ"
      },
      "source": [
        "###Подумайте, как добавить к произвольной таблице с известным первичным ключом константный столбец, содержащий число строк в ней. Если вы знаете, что такое оконные функции, то придумайте решение без них."
      ]
    },
    {
      "cell_type": "code",
      "metadata": {
        "colab": {
          "base_uri": "https://localhost:8080/",
          "height": 266
        },
        "id": "o1yFNgFp0_tr",
        "outputId": "2fd1ded7-c3ee-48cf-a9f6-da3ce77a3380"
      },
      "source": [
        "#Напишем запрос на примере таблицы person\r\n",
        "\r\n",
        "query1 = '''\r\n",
        "select *\r\n",
        " from person as t1\r\n",
        " cross join (\r\n",
        "             select count(*) as rows_total\r\n",
        "              from person       \r\n",
        "             ) as t2\r\n",
        "\r\n",
        "'''\r\n",
        "\r\n",
        "pd.read_sql(query1, connection)"
      ],
      "execution_count": 26,
      "outputs": [
        {
          "output_type": "execute_result",
          "data": {
            "text/html": [
              "<div>\n",
              "<style scoped>\n",
              "    .dataframe tbody tr th:only-of-type {\n",
              "        vertical-align: middle;\n",
              "    }\n",
              "\n",
              "    .dataframe tbody tr th {\n",
              "        vertical-align: top;\n",
              "    }\n",
              "\n",
              "    .dataframe thead th {\n",
              "        text-align: right;\n",
              "    }\n",
              "</style>\n",
              "<table border=\"1\" class=\"dataframe\">\n",
              "  <thead>\n",
              "    <tr style=\"text-align: right;\">\n",
              "      <th></th>\n",
              "      <th>id</th>\n",
              "      <th>name</th>\n",
              "      <th>rows_total</th>\n",
              "    </tr>\n",
              "  </thead>\n",
              "  <tbody>\n",
              "    <tr>\n",
              "      <th>0</th>\n",
              "      <td>1</td>\n",
              "      <td>Nawin</td>\n",
              "      <td>7</td>\n",
              "    </tr>\n",
              "    <tr>\n",
              "      <th>1</th>\n",
              "      <td>2</td>\n",
              "      <td>Moshe</td>\n",
              "      <td>7</td>\n",
              "    </tr>\n",
              "    <tr>\n",
              "      <th>2</th>\n",
              "      <td>3</td>\n",
              "      <td>Lisa</td>\n",
              "      <td>7</td>\n",
              "    </tr>\n",
              "    <tr>\n",
              "      <th>3</th>\n",
              "      <td>4</td>\n",
              "      <td>Nika</td>\n",
              "      <td>7</td>\n",
              "    </tr>\n",
              "    <tr>\n",
              "      <th>4</th>\n",
              "      <td>5</td>\n",
              "      <td>Max</td>\n",
              "      <td>7</td>\n",
              "    </tr>\n",
              "    <tr>\n",
              "      <th>5</th>\n",
              "      <td>6</td>\n",
              "      <td>Dan</td>\n",
              "      <td>7</td>\n",
              "    </tr>\n",
              "    <tr>\n",
              "      <th>6</th>\n",
              "      <td>7</td>\n",
              "      <td>Alex</td>\n",
              "      <td>7</td>\n",
              "    </tr>\n",
              "  </tbody>\n",
              "</table>\n",
              "</div>"
            ],
            "text/plain": [
              "   id   name  rows_total\n",
              "0   1  Nawin           7\n",
              "1   2  Moshe           7\n",
              "2   3   Lisa           7\n",
              "3   4   Nika           7\n",
              "4   5    Max           7\n",
              "5   6    Dan           7\n",
              "6   7   Alex           7"
            ]
          },
          "metadata": {
            "tags": []
          },
          "execution_count": 26
        }
      ]
    },
    {
      "cell_type": "code",
      "metadata": {
        "colab": {
          "base_uri": "https://localhost:8080/",
          "height": 266
        },
        "id": "z8N4zmGV2TUk",
        "outputId": "81430bf2-80d4-4e93-a812-5ecd542f8253"
      },
      "source": [
        "#Еще один вариант реализации подзапросом в качестве поля, без join и оконных функций\r\n",
        "\r\n",
        "query2 = '''\r\n",
        "select *\r\n",
        "      ,(select count(*) from person) as rows_total\r\n",
        " from person\r\n",
        "\r\n",
        "'''\r\n",
        "\r\n",
        "pd.read_sql(query2, connection)"
      ],
      "execution_count": 27,
      "outputs": [
        {
          "output_type": "execute_result",
          "data": {
            "text/html": [
              "<div>\n",
              "<style scoped>\n",
              "    .dataframe tbody tr th:only-of-type {\n",
              "        vertical-align: middle;\n",
              "    }\n",
              "\n",
              "    .dataframe tbody tr th {\n",
              "        vertical-align: top;\n",
              "    }\n",
              "\n",
              "    .dataframe thead th {\n",
              "        text-align: right;\n",
              "    }\n",
              "</style>\n",
              "<table border=\"1\" class=\"dataframe\">\n",
              "  <thead>\n",
              "    <tr style=\"text-align: right;\">\n",
              "      <th></th>\n",
              "      <th>id</th>\n",
              "      <th>name</th>\n",
              "      <th>rows_total</th>\n",
              "    </tr>\n",
              "  </thead>\n",
              "  <tbody>\n",
              "    <tr>\n",
              "      <th>0</th>\n",
              "      <td>1</td>\n",
              "      <td>Nawin</td>\n",
              "      <td>7</td>\n",
              "    </tr>\n",
              "    <tr>\n",
              "      <th>1</th>\n",
              "      <td>2</td>\n",
              "      <td>Moshe</td>\n",
              "      <td>7</td>\n",
              "    </tr>\n",
              "    <tr>\n",
              "      <th>2</th>\n",
              "      <td>3</td>\n",
              "      <td>Lisa</td>\n",
              "      <td>7</td>\n",
              "    </tr>\n",
              "    <tr>\n",
              "      <th>3</th>\n",
              "      <td>4</td>\n",
              "      <td>Nika</td>\n",
              "      <td>7</td>\n",
              "    </tr>\n",
              "    <tr>\n",
              "      <th>4</th>\n",
              "      <td>5</td>\n",
              "      <td>Max</td>\n",
              "      <td>7</td>\n",
              "    </tr>\n",
              "    <tr>\n",
              "      <th>5</th>\n",
              "      <td>6</td>\n",
              "      <td>Dan</td>\n",
              "      <td>7</td>\n",
              "    </tr>\n",
              "    <tr>\n",
              "      <th>6</th>\n",
              "      <td>7</td>\n",
              "      <td>Alex</td>\n",
              "      <td>7</td>\n",
              "    </tr>\n",
              "  </tbody>\n",
              "</table>\n",
              "</div>"
            ],
            "text/plain": [
              "   id   name  rows_total\n",
              "0   1  Nawin           7\n",
              "1   2  Moshe           7\n",
              "2   3   Lisa           7\n",
              "3   4   Nika           7\n",
              "4   5    Max           7\n",
              "5   6    Dan           7\n",
              "6   7   Alex           7"
            ]
          },
          "metadata": {
            "tags": []
          },
          "execution_count": 27
        }
      ]
    },
    {
      "cell_type": "markdown",
      "metadata": {
        "id": "vhK_7BXMxCEP"
      },
      "source": [
        "ДОП ЗАДАНИЕ**\n",
        "\n",
        "Если человек живет в Москве, то вывести его имя, улицу и почтовый код"
      ]
    },
    {
      "cell_type": "code",
      "metadata": {
        "colab": {
          "base_uri": "https://localhost:8080/",
          "height": 266
        },
        "id": "a9Be0oHeid85",
        "outputId": "d9c2c8f6-e3f1-42b7-a723-960dcd95b71a"
      },
      "source": [
        "query = '''\r\n",
        "select t1.id\r\n",
        "      ,case when t2.state = 'Moscow' then t1.name else NULL end as name\r\n",
        "      ,t2.street_name\r\n",
        "      ,t2.post_code\r\n",
        " from person as t1\r\n",
        " left join address as t2\r\n",
        "  on t1.id = t2.person_id\r\n",
        "   and t2.state = 'Moscow'\r\n",
        "'''\r\n",
        "pd.read_sql(query, connection)"
      ],
      "execution_count": 28,
      "outputs": [
        {
          "output_type": "execute_result",
          "data": {
            "text/html": [
              "<div>\n",
              "<style scoped>\n",
              "    .dataframe tbody tr th:only-of-type {\n",
              "        vertical-align: middle;\n",
              "    }\n",
              "\n",
              "    .dataframe tbody tr th {\n",
              "        vertical-align: top;\n",
              "    }\n",
              "\n",
              "    .dataframe thead th {\n",
              "        text-align: right;\n",
              "    }\n",
              "</style>\n",
              "<table border=\"1\" class=\"dataframe\">\n",
              "  <thead>\n",
              "    <tr style=\"text-align: right;\">\n",
              "      <th></th>\n",
              "      <th>id</th>\n",
              "      <th>name</th>\n",
              "      <th>street_name</th>\n",
              "      <th>post_code</th>\n",
              "    </tr>\n",
              "  </thead>\n",
              "  <tbody>\n",
              "    <tr>\n",
              "      <th>0</th>\n",
              "      <td>1</td>\n",
              "      <td>None</td>\n",
              "      <td>None</td>\n",
              "      <td>None</td>\n",
              "    </tr>\n",
              "    <tr>\n",
              "      <th>1</th>\n",
              "      <td>2</td>\n",
              "      <td>Moshe</td>\n",
              "      <td>Pervomay Street</td>\n",
              "      <td>141700</td>\n",
              "    </tr>\n",
              "    <tr>\n",
              "      <th>2</th>\n",
              "      <td>3</td>\n",
              "      <td>Lisa</td>\n",
              "      <td>Pervomay Street</td>\n",
              "      <td>141700</td>\n",
              "    </tr>\n",
              "    <tr>\n",
              "      <th>3</th>\n",
              "      <td>4</td>\n",
              "      <td>None</td>\n",
              "      <td>None</td>\n",
              "      <td>None</td>\n",
              "    </tr>\n",
              "    <tr>\n",
              "      <th>4</th>\n",
              "      <td>5</td>\n",
              "      <td>None</td>\n",
              "      <td>None</td>\n",
              "      <td>None</td>\n",
              "    </tr>\n",
              "    <tr>\n",
              "      <th>5</th>\n",
              "      <td>6</td>\n",
              "      <td>None</td>\n",
              "      <td>None</td>\n",
              "      <td>None</td>\n",
              "    </tr>\n",
              "    <tr>\n",
              "      <th>6</th>\n",
              "      <td>7</td>\n",
              "      <td>None</td>\n",
              "      <td>None</td>\n",
              "      <td>None</td>\n",
              "    </tr>\n",
              "  </tbody>\n",
              "</table>\n",
              "</div>"
            ],
            "text/plain": [
              "   id   name      street_name post_code\n",
              "0   1   None             None      None\n",
              "1   2  Moshe  Pervomay Street    141700\n",
              "2   3   Lisa  Pervomay Street    141700\n",
              "3   4   None             None      None\n",
              "4   5   None             None      None\n",
              "5   6   None             None      None\n",
              "6   7   None             None      None"
            ]
          },
          "metadata": {
            "tags": []
          },
          "execution_count": 28
        }
      ]
    }
  ]
}